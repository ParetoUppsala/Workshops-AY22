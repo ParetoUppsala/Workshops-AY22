{
  "nbformat": 4,
  "nbformat_minor": 0,
  "metadata": {
    "colab": {
      "provenance": [],
      "collapsed_sections": [],
      "toc_visible": true,
      "include_colab_link": true
    },
    "kernelspec": {
      "name": "python3",
      "display_name": "Python 3"
    },
    "language_info": {
      "name": "python"
    }
  },
  "cells": [
    {
      "cell_type": "markdown",
      "metadata": {
        "id": "view-in-github",
        "colab_type": "text"
      },
      "source": [
        "<a href=\"https://colab.research.google.com/github/ParetoUppsala/Workshops-AY22/blob/main/1-objects.ipynb\" target=\"_parent\"><img src=\"https://colab.research.google.com/assets/colab-badge.svg\" alt=\"Open In Colab\"/></a>"
      ]
    },
    {
      "cell_type": "markdown",
      "source": [
        "# Workshop 1: Object Classes\n",
        "![Pareto Workshops](https://scontent.fbma6-1.fna.fbcdn.net/v/t39.30808-6/309349681_461364066025165_8844687256213341271_n.jpg?_nc_cat=102&ccb=1-7&_nc_sid=e3f864&_nc_ohc=XHlyFTacwmUAX-RTmK2&_nc_ht=scontent.fbma6-1.fna&oh=00_AT_Tq2jQ0SAN699IEAmtdquyilxFWNeVvYxvp9pD66Ep9A&oe=633F3CFD)"
      ],
      "metadata": {
        "id": "veNGIxMybsUT"
      }
    },
    {
      "cell_type": "markdown",
      "source": [
        "## 0. Review of functions "
      ],
      "metadata": {
        "id": "0CZGJQYCqod3"
      }
    },
    {
      "cell_type": "code",
      "source": [
        "name = 'Tammy'\n",
        "isalive = False\n",
        "\n",
        "def repr():\n",
        "    if isalive:\n",
        "        return '😺'\n",
        "    else:\n",
        "        return '🪦'\n",
        "\n",
        "def talk():\n",
        "    \n",
        "    if isalive:\n",
        "        print(name, 'says \"Meow!\"', repr())\n",
        "    else:\n",
        "        print(name, 'says \"...\"', repr())\n",
        "\n",
        "talk()"
      ],
      "metadata": {
        "colab": {
          "base_uri": "https://localhost:8080/"
        },
        "id": "nh8PFWFUWvC4",
        "outputId": "73ccab25-725a-4e6c-f1e1-bd889d41d92b"
      },
      "execution_count": null,
      "outputs": [
        {
          "output_type": "stream",
          "name": "stdout",
          "text": [
            "Tammy says \"...\" 🪦\n"
          ]
        }
      ]
    },
    {
      "cell_type": "markdown",
      "source": [
        "## 1. Schrödinger"
      ],
      "metadata": {
        "id": "vC9XuGP0KToU"
      }
    },
    {
      "cell_type": "code",
      "source": [
        "class Cat:\n",
        "\n",
        "    # all objects require an __init__ method\n",
        "    def __init__(self, name):\n",
        "        \n",
        "        self.name = name\n",
        "\n",
        "        # hidden property\n",
        "        self._isalive = True\n",
        "\n",
        "    # representation\n",
        "    def __repr__(self):\n",
        "\n",
        "        if self._isalive:\n",
        "            return '😺'\n",
        "        else:\n",
        "            return '🪦'\n",
        "\n",
        "    # custom method\n",
        "    def talk(self):\n",
        "\n",
        "        if self._isalive:\n",
        "            print(self.name, 'says \"Meow!\"', self.__repr__())\n",
        "        else:\n",
        "            print(self.name, 'says \"...\"', self.__repr__())"
      ],
      "metadata": {
        "id": "fLbodGS5ejG4"
      },
      "execution_count": null,
      "outputs": []
    },
    {
      "cell_type": "code",
      "source": [
        "tammy = Cat('Tammy')\n",
        "\n",
        "tammy.talk()"
      ],
      "metadata": {
        "colab": {
          "base_uri": "https://localhost:8080/"
        },
        "id": "w3zcqhjWWgPc",
        "outputId": "00b2048c-8a95-4539-eb64-8bdde088b8ca"
      },
      "execution_count": null,
      "outputs": [
        {
          "output_type": "stream",
          "name": "stdout",
          "text": [
            "Tammy says \"Meow!\" 😺\n"
          ]
        }
      ]
    },
    {
      "cell_type": "code",
      "source": [
        "import random\n",
        "\n",
        "# inherited class\n",
        "class Schrödinger(Cat):\n",
        "\n",
        "    def __init__(self, name):\n",
        "\n",
        "        self._superposition = False\n",
        "        self._prob = 1\n",
        "\n",
        "        super().__init__(name)\n",
        "\n",
        "    def __repr__(self):\n",
        "\n",
        "        if self._superposition:\n",
        "            return '📦'\n",
        "\n",
        "        else:\n",
        "            return super().__repr__()\n",
        "\n",
        "    def experiment(self, prob=0.5):\n",
        "\n",
        "        self._prob = prob\n",
        "\n",
        "        self._superposition = True\n",
        "\n",
        "        if self._isalive:\n",
        "            self._isalive = (random.random() < self._prob)\n",
        "\n",
        "        msg = f'''{self.name} is put in a 📦 with a radioactive ⚛️ that has a {prob:.2%} chance of triggering ☠️.'''\n",
        "        \n",
        "        print(msg)\n",
        "\n",
        "    # the @property tag allows you to call a method as a property\n",
        "    @property\n",
        "    def isalive(self):\n",
        "\n",
        "        if self._superposition:\n",
        "            return self._prob\n",
        "\n",
        "        else:\n",
        "            return self._isalive\n",
        "\n",
        "    def reveal(self):\n",
        "        \n",
        "        self._superposition = False\n",
        "\n",
        "        status = 'lived 😸' if self.isalive else 'died 😿'\n",
        "        print(f'{self.name} {status}')"
      ],
      "metadata": {
        "id": "YNswznwTyJoH"
      },
      "execution_count": null,
      "outputs": []
    },
    {
      "cell_type": "code",
      "source": [
        "tom = Schrödinger('Tom')\n",
        "\n",
        "print(tom)\n",
        "\n",
        "tom.experiment(0.5)\n",
        "\n",
        "print(tom)\n",
        "\n",
        "print(tom.isalive) # property tag\n",
        "\n",
        "tom.reveal()\n",
        "\n",
        "print(tom)"
      ],
      "metadata": {
        "colab": {
          "base_uri": "https://localhost:8080/"
        },
        "id": "HCO9GRLual-G",
        "outputId": "3e8a58d7-58a3-4c52-8432-4280b9d4296f"
      },
      "execution_count": null,
      "outputs": [
        {
          "output_type": "stream",
          "name": "stdout",
          "text": [
            "😺\n",
            "Tom is put in a 📦 with a radioactive ⚛️ that has a 50.00% chance of triggering ☠️.\n",
            "📦\n",
            "0.5\n",
            "Tom lived 😸\n",
            "😺\n"
          ]
        }
      ]
    },
    {
      "cell_type": "markdown",
      "source": [
        "## 2. Vectors\n",
        "\n",
        "Use python data models for functions with built-in operators <br>\n",
        "https://docs.python.org/3/reference/datamodel.html"
      ],
      "metadata": {
        "id": "M3B2Zsc1rUX8"
      }
    },
    {
      "cell_type": "code",
      "source": [
        "import sympy as sp\n",
        "\n",
        "x = sp.symbols('x')"
      ],
      "metadata": {
        "id": "0H3pScjaG0zk"
      },
      "execution_count": null,
      "outputs": []
    },
    {
      "cell_type": "code",
      "source": [
        "class Vector:\n",
        "\n",
        "    def __init__(self, array, dim=None):\n",
        "        \n",
        "        self._array = list(array)\n",
        "\n",
        "    def __repr__(self):\n",
        "        return str(self._array)\n",
        "\n",
        "    def __len__(self):\n",
        "        return len(self._array)\n",
        "\n",
        "    def __iter__(self):\n",
        "        return iter(self._array)\n",
        "\n",
        "    def __add__(self, other):\n",
        "        return Vector([x + y for x, y in zip(self, other)])\n",
        "\n",
        "    def __neg__(self):\n",
        "        return Vector([-x for x in self])\n",
        "\n",
        "    def __sub__(self, other):\n",
        "        return Vector([x+(-y) for x, y in zip(self, other)])\n",
        "\n",
        "    def __mul__(self, other):\n",
        "        if str(other).isnumeric():\n",
        "            return [x * other for x in self]\n",
        "        else:\n",
        "            return self @ other\n",
        "\n",
        "    def __rmul__(self, other):\n",
        "        return self * other\n",
        "\n",
        "    def __matmul__(self, other):\n",
        "        return sum([x * y for x, y in zip(self, other)])\n"
      ],
      "metadata": {
        "id": "ZzgDkHAbrX6Q"
      },
      "execution_count": null,
      "outputs": []
    },
    {
      "cell_type": "code",
      "source": [
        " \n",
        "class Vector:\n",
        "\n",
        "    def __init__(self, values):\n",
        "\n",
        "        if str(values).isnumeric():\n",
        "            self_array = [values]\n",
        "        \n",
        "        else:\n",
        "            self._array = []\n",
        "            element = values[0]\n",
        "\n",
        "            if not str(element).isnumeric():\n",
        "                \n",
        "                self._isbase = False\n",
        "\n",
        "                for layer in values:\n",
        "                    self._array.append(Vector(layer))\n",
        "            else:\n",
        "                self._array = values\n",
        "                self._isbase = True\n",
        "\n",
        "    def __repr__(self):\n",
        "        \n",
        "        return str(self._array)\n",
        "\n",
        "    def __iter__(self):\n",
        "        return iter(self._array)\n",
        "\n",
        "    def __getitem__(self, key):\n",
        "        return self._array[key]\n",
        "\n",
        "    def __setitem__(self, key, values):\n",
        "        self._array[key] = Vector(values)\n",
        "\n",
        "    def transpose(self):\n",
        "        array = self._array\n",
        "\n",
        "    def __add__(self, other):\n",
        "        return Vector([x + y for x, y in zip(self, other)])\n",
        "\n",
        "    def __neg__(self):\n",
        "        return Vector([-x for x in self])\n",
        "\n",
        "    def __sub__(self, other):\n",
        "        return Vector([x+(-y) for x, y in zip(self, other)])\n",
        "\n",
        "\n",
        "    def __mul__(self, other):\n",
        "        if str(other).isnumeric():\n",
        "            return [x * other for x in self]\n",
        "        else:\n",
        "            return self @ other\n",
        "\n",
        "    def sum(self, *args):\n",
        "        \n",
        "        res = args[0]\n",
        "\n",
        "        for arg in args[1:]:\n",
        "            res = res + arg\n",
        "\n",
        "        return res\n",
        "\n",
        "    def __matmul__(self, other):\n",
        "        return self.sum(x * y for x, y in zip(self, other))\n",
        "\n",
        "x = Vector([[1, 2, 3],\n",
        "            [4, 5, 6]])"
      ],
      "metadata": {
        "id": "1NAdP_MBfrOR"
      },
      "execution_count": null,
      "outputs": []
    },
    {
      "cell_type": "markdown",
      "source": [
        "## Challenges"
      ],
      "metadata": {
        "id": "9oJTZ0q3JIUk"
      }
    },
    {
      "cell_type": "markdown",
      "source": [
        "### A. Cat and mouse 😺🐭\n",
        "\n",
        "Create two objects `Cat` and `Mouse` with the following methods:"
      ],
      "metadata": {
        "id": "yxW8zw-T87vp"
      }
    },
    {
      "cell_type": "code",
      "source": [],
      "metadata": {
        "id": "GPawc42EvXFI"
      },
      "execution_count": null,
      "outputs": []
    },
    {
      "cell_type": "markdown",
      "source": [
        "### B. Linear regression\n",
        "\n",
        "Create an object called `LinearRegression` that takes as `__init__` arguments a vector of target variables $y_{m \\times 1}$ and a feature matrix $X_{m \\times n}$.\n"
      ],
      "metadata": {
        "id": "XyXZyacrRFL2"
      }
    },
    {
      "cell_type": "code",
      "source": [
        "class LinearRegression:\n",
        "\n",
        "    def __init__(self, y, X, intercept):\n",
        "        \n",
        "        self.y = y\n",
        "        self.X = X\n",
        "\n",
        "    @property\n",
        "    def _sse(self):\n",
        "        '''\n",
        "        Sum of squared errors (loss function)\n",
        "        '''\n",
        "    \n",
        "    @property\n",
        "    def _sse_grad(self):\n",
        "        '''\n",
        "        Gradient of d SSE / d beta\n",
        "        '''\n",
        "\n",
        "    def fit(self):\n",
        "        pass\n",
        "\n",
        "    def R_squared(self):\n",
        "        pass"
      ],
      "metadata": {
        "id": "8xiYklIPTDZI"
      },
      "execution_count": null,
      "outputs": []
    },
    {
      "cell_type": "markdown",
      "source": [
        "### C. Logistic regression\n",
        "\n",
        "Let $y_i$ be a Bernoulli random variable with two outcomes $\\{0, 1\\}$, where $P(y_i = 1) = p$ and $P(y_i = 0) = 1-p$.\n",
        "\n",
        "We can predict the log-odds or **logit** of $y_i = 1$, which is\n",
        "\\begin{align}\n",
        "    z_i = \\ln \\frac{p}{1-p}.\n",
        "\\end{align}\n",
        "\n",
        "Then $p$ is given by\n",
        "\\begin{align}\n",
        "    p &= \\frac{\\exp(z_i)}{1 + \\exp(z_i)} = \\frac{1}{1+\\exp(-z_i)}.\n",
        "\\end{align}"
      ],
      "metadata": {
        "id": "47TDKfjf5fmS"
      }
    },
    {
      "cell_type": "code",
      "source": [
        "class LogisticRegression:\n",
        "\n",
        "     def __init__(self, y, X):\n",
        "         pass"
      ],
      "metadata": {
        "id": "075yVNAP9RNw"
      },
      "execution_count": null,
      "outputs": []
    },
    {
      "cell_type": "markdown",
      "source": [
        "### D. Constructing $\\mathbb N$\n",
        "\n",
        "Define $0 \\equiv \\varnothing$ and the successor object as $S(n) \\equiv \\{n, \\varnothing\\}$.\n",
        "\n",
        "Addition and multiplication are defined with the following properties:\n",
        "\n",
        "Addition\n",
        "1. Identity:\n",
        "    $0 + a = a$.\n",
        "2. Succession:\n",
        "    $a + S(b) = S(a + b)$.\n",
        "\n",
        "Multiplication\n",
        "1. Annihilation: $a \\cdot 0 = 0$.\n",
        "2. Succession: $a \\cdot S(b) = a + (a \\cdot b)$.\n",
        "\n",
        "Then we have that\n",
        "\\begin{align}\n",
        "    0 & {} = \\{\\}      && {} = \\varnothing,\\\\\n",
        "    1 & {} = \\{0\\}     && {} = \\{\\varnothing\\},\\\\\n",
        "    2 & {} = \\{0,1\\}   && {} = \\{\\varnothing,\\{\\varnothing\\}\\},\\\\\n",
        "    3 & {} = \\{0,1,2\\} && {} = \\{\\varnothing,\\{\\varnothing\\},\\{\\varnothing,\\{\\varnothing\\}\\}\\}.\n",
        "\\end{align}\n",
        "\n",
        "Construct a object class called `Set()` that has the properties of a finite set.\n",
        "\n",
        "Then construct object classes `Zero()` and `S()` according according to the [set-theoretical definiton](https://en.wikipedia.org/wiki/Set-theoretic_definition_of_natural_numbers) of natural numbers.\n",
        "\n",
        "<!-- \n",
        "1. Zero is a natural number:\n",
        "  $$0 \\in \\mathbb{N}.$$\n",
        "\n",
        "2. Every natural number has a successor in the natural numbers.\n",
        "  $$\\forall n \\in \\mathbb{N}, \\exists S(n) \\in \\mathbb{N}.$$\n",
        "\n",
        "3. Zero is not the successor of any number:\n",
        "  $$\\forall n\\in\\mathbb{N}, 0 \\ne S(n).$$\n",
        "\n",
        "4. Two numbers are the same are the same if and only if their successors are the same:\n",
        "  $$\\forall n, m \\in \\mathbb{N}, n = m \\iff S(n) = S(m).$$\n",
        "\n",
        "5. If a set contains zero and the successor of every number is in the set, then the set contains the natural numbers:\n",
        "  $$(0 \\in S) \\land (\\forall n \\in \\mathbb{N}, S(n) \\in S) \\implies \\mathbb{N} \\subseteq S.$$ -->\n"
      ],
      "metadata": {
        "id": "uPLKMt91z6VH"
      }
    },
    {
      "cell_type": "code",
      "source": [
        "class Set:\n",
        "\n",
        "    def __init__(self, *args):\n",
        "        pass\n",
        "\n",
        "    def __repr__(self):\n",
        "        pass\n",
        "\n",
        "    def __contains__(self, other):\n",
        "        pass\n",
        "\n",
        "    def __eq__(self, other):\n",
        "        pass\n",
        "\n",
        "    def union(self, other):\n",
        "        pass\n",
        "\n",
        "    def intersection(self, other):\n",
        "        pass\n",
        "\n",
        "    def issubset(self, other):\n",
        "        pass\n",
        "\n",
        "    def issuperset(self, other):\n",
        "        pass\n"
      ],
      "metadata": {
        "id": "QOFvJQ8zxZfu"
      },
      "execution_count": null,
      "outputs": []
    },
    {
      "cell_type": "code",
      "source": [
        "# your code below\n",
        "\n",
        "class S(Set): # succession\n",
        "    pass\n",
        "\n",
        "class Zero(S):\n",
        "    pass"
      ],
      "metadata": {
        "id": "Pf_mH6YwzZIF"
      },
      "execution_count": null,
      "outputs": []
    },
    {
      "cell_type": "markdown",
      "source": [
        "## Solutions"
      ],
      "metadata": {
        "id": "SoeXZXxZz-QM"
      }
    },
    {
      "cell_type": "markdown",
      "source": [
        "### Solution D."
      ],
      "metadata": {
        "id": "yKNOhQep1Esc"
      }
    },
    {
      "cell_type": "code",
      "source": [
        "class Set:\n",
        "\n",
        "    def __init__(self, *members):\n",
        "\n",
        "        self.members = []\n",
        "        for x in members:\n",
        "            if x not in self:\n",
        "                self.members.append(x)\n",
        "\n",
        "    def __repr__(self):\n",
        "        if not self.members:\n",
        "            return '∅'\n",
        "        \n",
        "        res = ', '.join([str(x) for x in self.members])\n",
        "        return '{' + res + '}'\n",
        "\n",
        "    def __contains__(self, other):\n",
        "        for x in self.members:\n",
        "            if other==x:\n",
        "                return True\n",
        "        return False\n",
        "\n",
        "    def __iter__(self):\n",
        "        return iter(self.members)\n",
        "\n",
        "    def __eq__(self, other):\n",
        "        return self.issubset(other) and self.issuperset(other)\n",
        "\n",
        "    def union(self, other):\n",
        "        return Set(*(self.members + other.members))\n",
        "\n",
        "    def intersection(self, other):\n",
        "        return Set(*[x for x in self if x in other])\n",
        "\n",
        "    def issubset(self, other):\n",
        "    \n",
        "        return all(x in self for x in other)\n",
        "\n",
        "    def issuperset(self, other):\n",
        "        \n",
        "        return all(x in other for x in self)\n"
      ],
      "metadata": {
        "id": "Qidr19mplc6y"
      },
      "execution_count": null,
      "outputs": []
    },
    {
      "cell_type": "code",
      "source": [
        "# check that empty sets are equal\n",
        "Set() == Set()"
      ],
      "metadata": {
        "colab": {
          "base_uri": "https://localhost:8080/"
        },
        "id": "IxRI59r-mooZ",
        "outputId": "55ed8da4-a88e-42dc-a634-df8beb600dfc"
      },
      "execution_count": null,
      "outputs": [
        {
          "output_type": "execute_result",
          "data": {
            "text/plain": [
              "True"
            ]
          },
          "metadata": {},
          "execution_count": 8
        }
      ]
    },
    {
      "cell_type": "code",
      "source": [
        "# your code here\n",
        "\n",
        "class S(Set):\n",
        "\n",
        "    def __init__(self, pred):\n",
        "        \n",
        "        # predecessor\n",
        "        self.pred = pred\n",
        "\n",
        "        if pred:\n",
        "            super().__init__(self.pred, Set())\n",
        "        \n",
        "        else: # 1. zero is a natural number\n",
        "            super().__init__()\n",
        "            \n",
        "    def __add__(self, other):\n",
        "        return S(self.pred + other)\n",
        "\n",
        "    def __mul__(self, other):\n",
        "        return other + (self.pred * other)\n",
        "\n",
        "    def successor(self):\n",
        "        return S(self)\n",
        "\n",
        "class Zero(S):\n",
        "\n",
        "    def __init__(self):\n",
        "        \n",
        "        self.pred = None\n",
        "        super().__init__(self.pred)\n",
        "\n",
        "    def __add__(self, other):\n",
        "        return other\n",
        "\n",
        "    def __mul__(self, other):\n",
        "        return self"
      ],
      "metadata": {
        "id": "LJMPkhDlOlVJ"
      },
      "execution_count": null,
      "outputs": []
    },
    {
      "cell_type": "code",
      "source": [
        "o = Zero()\n",
        "i = o.successor()\n",
        "ii = i.successor()\n",
        "iii = ii.successor()\n",
        "iv = iii.successor()"
      ],
      "metadata": {
        "id": "jYwZylOuRPwR"
      },
      "execution_count": null,
      "outputs": []
    },
    {
      "cell_type": "code",
      "source": [
        "print(i == o + i)\n",
        "\n",
        "print(ii == i + i)\n",
        "print(ii != i + o)\n",
        "\n",
        "print(iii == ii + i)\n",
        "print(iii == i + ii)\n",
        "print(iii != i + i)\n",
        "\n",
        "print(iv == ii + ii)"
      ],
      "metadata": {
        "colab": {
          "base_uri": "https://localhost:8080/"
        },
        "id": "-UAmKeWH_W6L",
        "outputId": "86481de0-e311-4bc6-8de5-d0f58e081d0a"
      },
      "execution_count": null,
      "outputs": [
        {
          "output_type": "stream",
          "name": "stdout",
          "text": [
            "True\n",
            "True\n",
            "True\n",
            "True\n",
            "True\n",
            "True\n",
            "True\n"
          ]
        }
      ]
    }
  ]
}