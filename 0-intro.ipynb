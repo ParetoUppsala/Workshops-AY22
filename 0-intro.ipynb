{
  "cells": [
    {
      "cell_type": "markdown",
      "metadata": {
        "id": "view-in-github",
        "colab_type": "text"
      },
      "source": [
        "<a href=\"https://colab.research.google.com/github/ParetoUppsala/Workshops-AY22/blob/main/0-intro.ipynb\" target=\"_parent\"><img src=\"https://colab.research.google.com/assets/colab-badge.svg\" alt=\"Open In Colab\"/></a>"
      ]
    },
    {
      "cell_type": "markdown",
      "source": [
        "# Workshop 0: Introduction\n",
        "![Pareto Workshops](https://scontent.fbma6-1.fna.fbcdn.net/v/t39.30808-6/309349681_461364066025165_8844687256213341271_n.jpg?_nc_cat=102&ccb=1-7&_nc_sid=e3f864&_nc_ohc=XHlyFTacwmUAX-RTmK2&_nc_ht=scontent.fbma6-1.fna&oh=00_AT_Tq2jQ0SAN699IEAmtdquyilxFWNeVvYxvp9pD66Ep9A&oe=633F3CFD)"
      ],
      "metadata": {
        "id": "t5XRNyFAJaVp"
      }
    },
    {
      "cell_type": "markdown",
      "source": [
        "### Links\n",
        "\n",
        "Discord servers <br>\n",
        "[2022](https://discord.gg/GN32mnXfYK)\n",
        "[2021](https://discord.gg/HE2rXb4xYq)\n",
        "\n",
        "More challenges <br>\n",
        "[level 1](https://github.com/qcx201/learning/tree/master/L-1_Challenges)\n",
        "[level 2](https://github.com/qcx201/learning/tree/master/L-2_Challenges)\n",
        "\n",
        "Python course <br>\n",
        "[notes](https://github.com/ipeirotis/introduction-to-python/tree/master/notes)\n",
        "[videos](https://youtube.com/playlist?list=PLqAPn_b_yx0TBDqe5-AMSed6sYzMj9qkN)\n",
        "[topics](https://github.com/ipeirotis/dealing_with_data)\n",
        "\n",
        "QuantEcon <br>\n",
        "[lectures](https://quantecon.org/lectures/)\n",
        "\n",
        "Automate the boring stuff <br>\n",
        "[Contents](https://automatetheboringstuff.com/2e/)"
      ],
      "metadata": {
        "id": "N0HpqmQ9Sv9j"
      }
    },
    {
      "cell_type": "markdown",
      "metadata": {
        "id": "t_xvCEL2OtFI"
      },
      "source": [
        "# 0. Variables and strings"
      ]
    },
    {
      "cell_type": "markdown",
      "metadata": {
        "id": "NNTm6fgHRlAK"
      },
      "source": [
        "## 0.0. Hello world"
      ]
    },
    {
      "cell_type": "code",
      "execution_count": 1,
      "metadata": {
        "colab": {
          "base_uri": "https://localhost:8080/"
        },
        "id": "gvcXfglHQB-q",
        "outputId": "c195ac43-464f-4fa5-80c0-ec55f4e18dcd"
      },
      "outputs": [
        {
          "output_type": "stream",
          "name": "stdout",
          "text": [
            "Hello world!\n"
          ]
        }
      ],
      "source": [
        "# this is a comment\n",
        "print(\"Hello world!\")"
      ]
    },
    {
      "cell_type": "code",
      "execution_count": 2,
      "metadata": {
        "colab": {
          "base_uri": "https://localhost:8080/"
        },
        "id": "xpK0oS5iMANM",
        "outputId": "c7faf241-4f40-4250-9827-67b87aa73104"
      },
      "outputs": [
        {
          "output_type": "stream",
          "name": "stdout",
          "text": [
            "hello <class 'str'>\n",
            "3 <class 'int'>\n",
            "3.14 <class 'float'>\n",
            "True <class 'bool'>\n"
          ]
        }
      ],
      "source": [
        "# variables\n",
        "\n",
        "# string (text)\n",
        "myvar = 'hello'\n",
        "print(myvar, type(myvar))\n",
        "\n",
        "# integer\n",
        "myvar = 3\n",
        "print(myvar, type(myvar))\n",
        "\n",
        "# float (decimal)\n",
        "myvar = 3.14\n",
        "print(myvar, type(myvar))\n",
        "\n",
        "# boolean (True/False)\n",
        "myvar = True\n",
        "print(myvar, type(myvar))"
      ]
    },
    {
      "cell_type": "markdown",
      "source": [
        "Rules for variable names\n",
        "* Only letters, numbers, and `_` .\n",
        "* Cannot start with number: `1st_var` is 👎 but `var1` is 👍.\n",
        "* Case sensitive `myvar` $\\ne$ `Myvar` $\\ne$ `myVar`.\n",
        "* Do not use built-in object names (anything that lights up) like `print`.\n",
        "* Use descriptive names"
      ],
      "metadata": {
        "id": "5uWzSA7dNOHc"
      }
    },
    {
      "cell_type": "markdown",
      "metadata": {
        "id": "Vx6lWAK_RrLy"
      },
      "source": [
        "## 0.1. Concatenation"
      ]
    },
    {
      "cell_type": "code",
      "execution_count": 3,
      "metadata": {
        "colab": {
          "base_uri": "https://localhost:8080/"
        },
        "id": "CqnrgapjQGo3",
        "outputId": "59194ab6-aade-4697-a6df-fb9bf0ed17bd"
      },
      "outputs": [
        {
          "output_type": "stream",
          "name": "stdout",
          "text": [
            "Hello world!\n"
          ]
        }
      ],
      "source": [
        "# assign variable\n",
        "a = \"Hello\"\n",
        "b = 'world!'\n",
        "\n",
        "print(a + ' ' + b)"
      ]
    },
    {
      "cell_type": "code",
      "execution_count": 4,
      "metadata": {
        "colab": {
          "base_uri": "https://localhost:8080/"
        },
        "id": "mUxz321fQSfc",
        "outputId": "151a00be-3bd5-4f0b-b3df-43d409f12908"
      },
      "outputs": [
        {
          "output_type": "stream",
          "name": "stdout",
          "text": [
            "12\n",
            "Hello world! Goodbye!\n"
          ]
        }
      ],
      "source": [
        "# concatenation\n",
        "x = \"1\"\n",
        "y = \"2\"\n",
        "\n",
        "# what is \"1\" + \"2\"?\n",
        "print(x + y)\n",
        "\n",
        "# \"adding\" strings\n",
        "s1 = \"Hello world!\"\n",
        "s2 = \"Goodbye!\"\n",
        "mystr = s1 + ' ' + s2\n",
        "\n",
        "print(mystr)"
      ]
    },
    {
      "cell_type": "markdown",
      "source": [
        "Rules for variable names:\n",
        "\n",
        "* Only letters, numbers, and `_`.\n",
        "\n",
        "* Cannot start with a number: `var1` is 👍 but `1st_var` is 👎\n",
        "\n",
        "* Case sensitive: `myvar`$\\ne$ `Myvar` $\\ne$ `MyVar`.\n",
        "\n",
        "* Do not assign to special characters, like `print`.\n",
        "\n",
        "* Use descriptive names."
      ],
      "metadata": {
        "id": "_CdV8CsANaa4"
      }
    },
    {
      "cell_type": "markdown",
      "metadata": {
        "id": "5uvLB4bDSe4K"
      },
      "source": [
        "## 0.2. Indexing and slicing"
      ]
    },
    {
      "cell_type": "code",
      "execution_count": 5,
      "metadata": {
        "colab": {
          "base_uri": "https://localhost:8080/"
        },
        "id": "k1A1YhPUQeFh",
        "outputId": "0d867f22-7494-4f98-d443-435243513acf"
      },
      "outputs": [
        {
          "output_type": "stream",
          "name": "stdout",
          "text": [
            "a\n",
            "c\n",
            "g\n"
          ]
        }
      ],
      "source": [
        "# indexing\n",
        "\n",
        "mystr = 'abcdefg'\n",
        "\n",
        "# index 1st character (start index at 0)\n",
        "print(mystr[0])\n",
        "\n",
        "# 3rd character\n",
        "print(mystr[2])\n",
        "\n",
        "# last character\n",
        "print(mystr[-1])"
      ]
    },
    {
      "cell_type": "code",
      "execution_count": 6,
      "metadata": {
        "colab": {
          "base_uri": "https://localhost:8080/"
        },
        "id": "zjzhRp_HRG4a",
        "outputId": "7015454f-f89e-4dc7-b143-0de3909f7a70"
      },
      "outputs": [
        {
          "output_type": "stream",
          "name": "stdout",
          "text": [
            "hello\n",
            "hello\n",
            "world\n",
            "world\n",
            "hlowrd\n"
          ]
        }
      ],
      "source": [
        "# slicing\n",
        "\n",
        "mystr = 'hello world'\n",
        "\n",
        "# slice first word\n",
        "print(mystr[0:5])\n",
        "print(mystr[:5])\n",
        "\n",
        "# slicing from third character\n",
        "print(mystr[6:])\n",
        "print(mystr[-5:])\n",
        "\n",
        "# slice every second character\n",
        "print(mystr[::2])"
      ]
    },
    {
      "cell_type": "code",
      "execution_count": 7,
      "metadata": {
        "colab": {
          "base_uri": "https://localhost:8080/"
        },
        "id": "j3K3yFJJqcDr",
        "outputId": "1f19c8a1-f571-4f2d-ca64-cf079b223b93"
      },
      "outputs": [
        {
          "output_type": "stream",
          "name": "stdout",
          "text": [
            "6\n",
            "world\n"
          ]
        }
      ],
      "source": [
        "mystr = 'hello world'\n",
        "\n",
        "# get the lowest index of a substring\n",
        "i = mystr.index('w')\n",
        "print(i)\n",
        "\n",
        "print(mystr[i:])"
      ]
    },
    {
      "cell_type": "markdown",
      "metadata": {
        "id": "omL5WPYbUvj7"
      },
      "source": [
        "## 0.3. Other string methods\n",
        "\n",
        "See more string methods in this [documentation](https://www.w3schools.com/python/python_ref_string.asp)."
      ]
    },
    {
      "cell_type": "code",
      "execution_count": 8,
      "metadata": {
        "colab": {
          "base_uri": "https://localhost:8080/"
        },
        "id": "ytQg0KvZSbic",
        "outputId": "0a965a48-5f32-427e-d000-d067bb59ae50"
      },
      "outputs": [
        {
          "output_type": "stream",
          "name": "stdout",
          "text": [
            "Zvzry whzrz you szz an \"z\", changz it into an \"e.\"\n",
            "every where you see an \"e\", change it into an \"e.\"\n",
            "['every', 'where', 'you', 'see', 'an', '\"e\",', 'change', 'it', 'into', 'an', '\"e.\"']\n",
            "['every where you see an \"e\"', 'change it into an \"e.\"']\n",
            "every where you see an \"e\"|change it into an \"e.\"\n"
          ]
        }
      ],
      "source": [
        "mystring = 'Zvzry whzrz you szz an \"z\", changz it into an \"e.\"'\n",
        "print(mystring)\n",
        "\n",
        "# replace\n",
        "mystring = mystring.replace(\"z\", \"e\")\n",
        "\n",
        "# lower case then replace\n",
        "mystring = mystring.lower()\n",
        "mystring = mystring.replace(\"z\", \"e\")\n",
        "print(mystring)\n",
        "\n",
        "# split on space\n",
        "split1 = mystring.split()\n",
        "print(split1)\n",
        "\n",
        "# split on comma\n",
        "split2 = mystring.split(', ')\n",
        "print(split2)\n",
        "\n",
        "# join back together\n",
        "joined = \"|\".join(split2)\n",
        "print(joined)"
      ]
    },
    {
      "cell_type": "markdown",
      "metadata": {
        "id": "oJtsPlpzz_A0"
      },
      "source": [
        "## Challenges"
      ]
    },
    {
      "cell_type": "markdown",
      "metadata": {
        "id": "ykSgcv9FZDft"
      },
      "source": [
        "### A. Printing with 😎\n",
        "\n",
        "We can use ANSI escape codes to format font of python's print outputs. [Appendix I](#scrollTo=3pYQVn3QfX5g) contains a list of escape codes. Experiment and play around with them!\n",
        "\n",
        "Following the example below, recreate the following formatted text:\n",
        "\n",
        "&emsp; The <font color='red'>*Little Red Riding Hood*</font> was eaten by the <mark><u>**Big Bad Wolf!**</u></mark>"
      ]
    },
    {
      "cell_type": "code",
      "execution_count": 9,
      "metadata": {
        "colab": {
          "base_uri": "https://localhost:8080/"
        },
        "id": "lP5oOZf-UZ9L",
        "outputId": "a8b86193-3953-4cf9-b5ed-84fcf27b03b3"
      },
      "outputs": [
        {
          "output_type": "stream",
          "name": "stdout",
          "text": [
            "Example: This \u001b[1m\u001b[4mword\u001b[0m is bold and underlined.\n"
          ]
        }
      ],
      "source": [
        "end = '\\033[0m'       # exit formatting\n",
        "bf = '\\033[1m'        # bold text\n",
        "it = '\\033[3m'        # italicize text\n",
        "ul = '\\033[4m'        # underline text\n",
        "red = '\\033[91m'      # red text\n",
        "y_bg = '\\033[103m'    # yellow background\n",
        "\n",
        "eg = 'This ' + bf + ul + 'word' + end + ' is bold and underlined.'\n",
        "print('Example:', eg)\n",
        "\n",
        "# your code here\n"
      ]
    },
    {
      "cell_type": "markdown",
      "metadata": {
        "id": "QGDmK89dNI5s"
      },
      "source": [
        "### B. Now I know my 🔡's\n",
        "\n",
        "Convert the strings into the ordered alphabet\n",
        "`abcdefghijklmnopqrstuvwxyzåäö`."
      ]
    },
    {
      "cell_type": "code",
      "execution_count": 10,
      "metadata": {
        "id": "LRthhio9NI5s"
      },
      "outputs": [],
      "source": [
        "asunder = 'a b c d e f g h i j k l m n o p q r s t u v w x y z å ä ö'\n",
        "\n",
        "backwards = 'öäåzyxwvutsrqponmlkjihgfedcba'\n",
        "\n",
        "continued = 'opqrstuvwxyzåäöabcdefghijklmn'\n",
        "\n",
        "diced = 'apbqcrdsetfugvhwixjykzlåmänöo'\n",
        "\n",
        "# your code here\n"
      ]
    },
    {
      "cell_type": "markdown",
      "metadata": {
        "id": "6qEZRQXOkE4q"
      },
      "source": [
        "### C. Wfoj, wjej, wjdj 🥬\n",
        "\n",
        "Decrypt `message` by changing each letter to the preceding letter in `alpha`, i.e. `c → b`, `b → a`, `a → ö`, and etc."
      ]
    },
    {
      "cell_type": "code",
      "execution_count": 11,
      "metadata": {
        "id": "DH62jJo7ksgl"
      },
      "outputs": [],
      "source": [
        "message = 'uifsf xbt podf b spnbo xip buf ijt hjsmgsjfoe... if xbt hmbejbups 😋'\n",
        "\n",
        "alpha = 'abcdefghijklmnopqrstuvwxyzåäö'\n",
        "\n",
        "# your code here\n"
      ]
    },
    {
      "cell_type": "markdown",
      "metadata": {
        "id": "76m9zI8yVZkQ"
      },
      "source": [
        "### D. Ig-pay Atin-lay 🐷\n",
        "\n",
        "Translate the sentences from [Pig Latin](https://www.youtube.com/watch?v=t_sWPz1CS0g) to regular English.\n",
        "\n",
        "For example: `\"O-day ou-yay peak-say Ig-pay Atin-lay?\"` translates to `\"Do you speak pig latin?\"`"
      ]
    },
    {
      "cell_type": "code",
      "execution_count": 12,
      "metadata": {
        "id": "YAxWY944dx9g"
      },
      "outputs": [],
      "source": [
        "pig_latin = [\n",
        "    'Ello-hay!',\n",
        "    'Y-may ame-nay is-ay Ister-may Nowball-say.',\n",
        "    'O-day ou-yay peak-say Ig-pay Atin-lay?',\n",
        "    'Is-thay is-ay etting-gay oar-ing-bay',\n",
        "    'At\\'s-thay all-ay olks-fay!'\n",
        "  ]\n",
        "\n",
        "# your code here\n"
      ]
    },
    {
      "cell_type": "markdown",
      "metadata": {
        "id": "0NfzCyb1LiOG"
      },
      "source": [
        "## Solutions\n",
        "Unhide cells to see solutions."
      ]
    },
    {
      "cell_type": "markdown",
      "metadata": {
        "id": "5WlJxuZ1om7S"
      },
      "source": [
        "### Solution A."
      ]
    },
    {
      "cell_type": "code",
      "execution_count": 13,
      "metadata": {
        "colab": {
          "base_uri": "https://localhost:8080/"
        },
        "id": "yp4JES5GmxSG",
        "outputId": "78fa8838-a88a-49ec-970f-a6ce6dba4b65"
      },
      "outputs": [
        {
          "output_type": "stream",
          "name": "stdout",
          "text": [
            "The \u001b[91m\u001b[3mLittle Red Riding Hood\u001b[0m was eaten by the \u001b[1m\u001b[4m\u001b[103mBig Bad Wolf!\u001b[0m\n"
          ]
        }
      ],
      "source": [
        "end = '\\033[0m'       # exit formatting\n",
        "bf = '\\033[1m'        # bold text\n",
        "it = '\\033[3m'        # italicize text\n",
        "ul = '\\033[4m'        # underline text\n",
        "red = '\\033[91m'      # red text\n",
        "y_bg = '\\033[103m'    # yellow background\n",
        "\n",
        "eg = 'This ' + bf + ul + 'word' + end + ' is bold and underlined.'\n",
        "# print('Example:', eg)\n",
        "\n",
        "# your code here\n",
        "\n",
        "text = 'The ' + red + it + 'Little Red Riding Hood' + end + \\\n",
        "  ' was eaten by the ' + bf + ul + y_bg + 'Big Bad Wolf!' + end\n",
        "\n",
        "print(text)"
      ]
    },
    {
      "cell_type": "markdown",
      "metadata": {
        "id": "mwN3m4IEm8V9"
      },
      "source": [
        "### Solution B."
      ]
    },
    {
      "cell_type": "code",
      "execution_count": 14,
      "metadata": {
        "colab": {
          "base_uri": "https://localhost:8080/"
        },
        "id": "5cwa5hOLXWnm",
        "outputId": "6f2884cd-e1bc-4381-ecff-137bc1cfc093"
      },
      "outputs": [
        {
          "output_type": "stream",
          "name": "stdout",
          "text": [
            "abcdefghijklmnopqrstuvwxyzåäö\n",
            "abcdefghijklmnopqrstuvwxyzåäö\n",
            "abcdefghijklmnopqrstuvwxyzåäö\n",
            "abcdefghijklmnopqrstuvwxyzåäö\n"
          ]
        }
      ],
      "source": [
        "asunder = 'a b c d e f g h i j k l m n o p q r s t u v w x y z å ä ö'\n",
        "\n",
        "backwards = 'öäåzyxwvutsrqponmlkjihgfedcba'\n",
        "\n",
        "continued = 'opqrstuvwxyzåäöabcdefghijklmn'\n",
        "\n",
        "diced = 'apbqcrdsetfugvhwixjykzlåmänöo'\n",
        "\n",
        "# your code here\n",
        "\n",
        "alpha = asunder[::2] \n",
        "print(alpha)\n",
        "\n",
        "alpha = backwards[::-1]\n",
        "print(alpha)\n",
        "\n",
        "end = continued.index('ö')\n",
        "alpha = continued[end+1:] + continued[:end+1]\n",
        "print(alpha)\n",
        "\n",
        "alpha = diced[::2] + diced[1::2]\n",
        "print(alpha)"
      ]
    },
    {
      "cell_type": "markdown",
      "metadata": {
        "id": "tDvk83x4jt5C"
      },
      "source": [
        "### Solution C."
      ]
    },
    {
      "cell_type": "code",
      "execution_count": 15,
      "metadata": {
        "colab": {
          "base_uri": "https://localhost:8080/"
        },
        "id": "f_aXoR3gjtcz",
        "outputId": "e847e073-acd9-4b59-cc69-09a8d408d3a2"
      },
      "outputs": [
        {
          "output_type": "stream",
          "name": "stdout",
          "text": [
            "there was once a roman who ate his girlfriend... he was gladiator 😋\n"
          ]
        }
      ],
      "source": [
        "message = 'uifsf xbt podf b spnbo xip buf ijt hjsmgsjfoe... if xbt hmbejbups 😋'\n",
        "\n",
        "alpha = 'abcdefghijklmnopqrstuvwxyzåäö'\n",
        "\n",
        "# your code here\n",
        "\n",
        "decoded = ''\n",
        "\n",
        "for c in message:\n",
        "\n",
        "    if c in alpha:\n",
        "        \n",
        "        i = alpha.index(c)\n",
        "\n",
        "        # decrease index by 1\n",
        "        i -= 1\n",
        "\n",
        "        decoded += alpha[i]\n",
        "      \n",
        "    else:\n",
        "        decoded += c\n",
        "\n",
        "print(decoded.lower())"
      ]
    },
    {
      "cell_type": "markdown",
      "metadata": {
        "id": "YzlnYVjOo1YU"
      },
      "source": [
        "### Solution D."
      ]
    },
    {
      "cell_type": "code",
      "execution_count": 16,
      "metadata": {
        "colab": {
          "base_uri": "https://localhost:8080/"
        },
        "id": "nzcaRKKfo0km",
        "outputId": "15b92c67-5e58-423b-9ac7-ec4aed033849"
      },
      "outputs": [
        {
          "output_type": "stream",
          "name": "stdout",
          "text": [
            "Hello!\n",
            "My name is Mister Snowball.\n",
            "Do you speak Pig Latin?\n",
            "This is getting boar-ing\n",
            "That's all folks!\n"
          ]
        }
      ],
      "source": [
        "pig_latin = [\n",
        "    'Ello-hay!',\n",
        "    'Y-may ame-nay is-ay Ister-may Nowball-say.',\n",
        "    'O-day ou-yay peak-say Ig-pay Atin-lay?',\n",
        "    'Is-thay is-ay etting-gay oar-ing-bay',\n",
        "    'At\\'s-thay all-ay olks-fay!'\n",
        "  ]\n",
        "\n",
        "# your code here\n",
        "\n",
        "for p in pig_latin:\n",
        "    \n",
        "    words = p.split()\n",
        "    \n",
        "    eng_words = []\n",
        "    \n",
        "    for w in words:\n",
        "        \n",
        "        # check if word is capitalized\n",
        "        cap = w[0].isupper()\n",
        "        \n",
        "        # check for punctuation\n",
        "        if not w[-1].isalpha():\n",
        "            punc = w[-1] # save punctuation for later\n",
        "            w = w[:-1] # remove punct from word\n",
        "        \n",
        "        else: # no punctation\n",
        "            punc = '' \n",
        "        \n",
        "        # split into word parts pased on '-'\n",
        "        parts = w.split('-')\n",
        "        \n",
        "        # remove \"-ay\" from the last word part and place at beginning of new word\n",
        "        eng_w = parts[-1].replace('ay','')\n",
        "        \n",
        "        # add remaining parts joined by '-'\n",
        "        eng_w = eng_w + '-'.join(parts[:-1])\n",
        "        \n",
        "        # add punctation\n",
        "        eng_w = eng_w + punc\n",
        "        \n",
        "        if cap: # if word was capitalized\n",
        "            eng_w = eng_w[0].upper() + eng_w[1:].lower() # caplitalize first letter, lower case everything else\n",
        "        else:\n",
        "            eng_w = eng_w.lower()\n",
        "        \n",
        "        eng_words.append(eng_w)\n",
        "    \n",
        "    eng = ' '.join(eng_words)\n",
        "    print(eng)"
      ]
    },
    {
      "cell_type": "markdown",
      "metadata": {
        "id": "1Z2d19rIOoKP"
      },
      "source": [
        "# 1. Numerical objects and functions"
      ]
    },
    {
      "cell_type": "markdown",
      "metadata": {
        "id": "WDvSAtcgInAO"
      },
      "source": [
        "## 1.0. Built-in math operators"
      ]
    },
    {
      "cell_type": "code",
      "execution_count": 17,
      "metadata": {
        "colab": {
          "base_uri": "https://localhost:8080/"
        },
        "id": "65WSc0lNAh9_",
        "outputId": "45eb221b-189d-414f-f7e5-6b4ab21e7a55"
      },
      "outputs": [
        {
          "output_type": "stream",
          "name": "stdout",
          "text": [
            "Let x = 5, y = 3. Then\n",
            "x + y \t=  8\n",
            "x - y \t=  2\n",
            "x * y \t=  15\n",
            "x**y \t=  125\n",
            "x / y \t=  1.66667\n",
            "x // y \t=  1\n",
            "x % y \t=  2\n"
          ]
        }
      ],
      "source": [
        "# assign variables\n",
        "x, y = 5, 3\n",
        "\n",
        "print(f'Let x = {x}, y = {y}. Then')\n",
        "\n",
        "# addition\n",
        "print('x + y \\t= ', x + y)\n",
        "\n",
        "# subtraction\n",
        "print('x - y \\t= ', x - y)\n",
        "\n",
        "# multiplication\n",
        "print('x * y \\t= ', x * y)\n",
        "\n",
        "# power\n",
        "print('x**y \\t= ', x**y)\n",
        "\n",
        "# division\n",
        "print('x / y \\t= ', round(x / y, 5))\n",
        "\n",
        "# integer (or Euclid) division\n",
        "print('x // y \\t= ', x // y)\n",
        "\n",
        "# modulo\n",
        "print('x % y \\t= ', x % y)"
      ]
    },
    {
      "cell_type": "markdown",
      "metadata": {
        "id": "CZGhXFz8xj_E"
      },
      "source": [
        "For any $x$ and $y \\ne 0$, there exists $m, n$ where $$y = nx + m, \\quad 0 \\le m < |y|, \\quad n \\in \\mathbb Z.$$ Then `x // y = n` and `x % y = m`."
      ]
    },
    {
      "cell_type": "code",
      "execution_count": 18,
      "metadata": {
        "colab": {
          "base_uri": "https://localhost:8080/"
        },
        "id": "fRh-vm_7cYN-",
        "outputId": "31806d16-685d-48d3-f6ff-abdf4446b04f"
      },
      "outputs": [
        {
          "output_type": "stream",
          "name": "stdout",
          "text": [
            "7\n",
            "9\n"
          ]
        }
      ],
      "source": [
        "# use brackets\n",
        "print(1 + 2 * 3)\n",
        "print((1 + 2) * 3)"
      ]
    },
    {
      "cell_type": "markdown",
      "metadata": {
        "id": "vv8CoMJ-KpXB"
      },
      "source": [
        "## 1.1. Importing modules \n",
        "\n"
      ]
    },
    {
      "cell_type": "code",
      "execution_count": 19,
      "metadata": {
        "colab": {
          "base_uri": "https://localhost:8080/"
        },
        "id": "8hJeNuByKUhM",
        "outputId": "63dd56e8-ff0e-4bf0-9413-71d520473643"
      },
      "outputs": [
        {
          "output_type": "stream",
          "name": "stdout",
          "text": [
            "log_2(8) = 3.00000\n",
            "sin(3.14159) = 0.00000\n",
            "cos(3.14159) = -1.00000\n"
          ]
        }
      ],
      "source": [
        "# import built-in module\n",
        "import math\n",
        "\n",
        "# log of 8 base 2\n",
        "x, b = 8, 2\n",
        "y = math.log(x, b)\n",
        "\n",
        "print(f'log_{b}({x}) = {y:.5f}')\n",
        "\n",
        "# sine and cosine\n",
        "x = math.pi\n",
        "\n",
        "y = math.sin(x)\n",
        "print(f'sin({x:.5f}) = {y:.5f}')\n",
        "\n",
        "y = math.cos(x)\n",
        "print(f'cos({x:.5f}) = {y:.5f}')"
      ]
    },
    {
      "cell_type": "markdown",
      "metadata": {
        "id": "Vat6DJcGbrur"
      },
      "source": [
        "## 1.2. User-defined functions"
      ]
    },
    {
      "cell_type": "code",
      "execution_count": 20,
      "metadata": {
        "colab": {
          "base_uri": "https://localhost:8080/"
        },
        "id": "NkUdlj1dLDmX",
        "outputId": "3918035a-1b02-41a5-8d12-bab025b3be03"
      },
      "outputs": [
        {
          "output_type": "stream",
          "name": "stdout",
          "text": [
            "1.5\n"
          ]
        }
      ],
      "source": [
        "def avg(x, y):\n",
        "\n",
        "    # calculate sum \n",
        "    res = (x + y) / 2\n",
        "\n",
        "    return res\n",
        "\n",
        "z = avg(1, 2)\n",
        "print(z)"
      ]
    },
    {
      "cell_type": "code",
      "execution_count": 21,
      "metadata": {
        "colab": {
          "base_uri": "https://localhost:8080/"
        },
        "id": "QGgcX3qB6ZHI",
        "outputId": "1158af7c-deef-47bf-ca0d-c0f2bddcd760"
      },
      "outputs": [
        {
          "output_type": "stream",
          "name": "stdout",
          "text": [
            "1.5\n",
            "None\n"
          ]
        }
      ],
      "source": [
        "def avg(x, y):\n",
        "\n",
        "    res = (x + y) / 2\n",
        "    \n",
        "    print(res)\n",
        "\n",
        "# None (nothing) returned\n",
        "z = avg(1, 2)\n",
        "print(z)"
      ]
    },
    {
      "cell_type": "code",
      "execution_count": 22,
      "metadata": {
        "colab": {
          "base_uri": "https://localhost:8080/"
        },
        "id": "OjZz9fHlL48Z",
        "outputId": "b82ade7f-fcc7-46e3-d21b-e7e66f2ae7b7"
      },
      "outputs": [
        {
          "output_type": "stream",
          "name": "stdout",
          "text": [
            "1.13137\n"
          ]
        }
      ],
      "source": [
        "def cobb_douglas(x1, x2, A=0.8, alpha=0.5): # optional arguments\n",
        "\n",
        "    return A * (x1**alpha) * (x2**(1-alpha))\n",
        "\n",
        "u = cobb_douglas(1, 2)\n",
        "\n",
        "print(round(u, 5))"
      ]
    },
    {
      "cell_type": "markdown",
      "metadata": {
        "id": "LP8KvpHpO0f8"
      },
      "source": [
        "## 1.3. Symbolic math with sympy"
      ]
    },
    {
      "cell_type": "code",
      "execution_count": 23,
      "metadata": {
        "id": "kwdJQzWtBYc3"
      },
      "outputs": [],
      "source": [
        "import sympy as sp"
      ]
    },
    {
      "cell_type": "code",
      "execution_count": 24,
      "metadata": {
        "id": "nFoldtqculiV"
      },
      "outputs": [],
      "source": [
        "from IPython.display import display, Latex\n",
        "\n",
        "def disp(*args):\n",
        "    '''\n",
        "    Helper function to display latex.\n",
        "    '''\n",
        "    for arg in args:\n",
        "        display(arg)"
      ]
    },
    {
      "cell_type": "code",
      "execution_count": 25,
      "metadata": {
        "colab": {
          "base_uri": "https://localhost:8080/",
          "height": 96
        },
        "id": "PJ6eWfyCPOO9",
        "outputId": "fbd1b720-7a00-4280-8e6b-289c3055adab"
      },
      "outputs": [
        {
          "output_type": "display_data",
          "data": {
            "text/plain": [
              "'y ='"
            ],
            "application/vnd.google.colaboratory.intrinsic+json": {
              "type": "string"
            }
          },
          "metadata": {}
        },
        {
          "output_type": "display_data",
          "data": {
            "text/plain": [
              "3*x_1*x_2 + x_1 + 2*x_2"
            ],
            "text/latex": "$\\displaystyle 3 x_{1} x_{2} + x_{1} + 2 x_{2}$"
          },
          "metadata": {}
        },
        {
          "output_type": "display_data",
          "data": {
            "text/plain": [
              "'dy/dx_1 ='"
            ],
            "application/vnd.google.colaboratory.intrinsic+json": {
              "type": "string"
            }
          },
          "metadata": {}
        },
        {
          "output_type": "display_data",
          "data": {
            "text/plain": [
              "3*x_1 + 2"
            ],
            "text/latex": "$\\displaystyle 3 x_{1} + 2$"
          },
          "metadata": {}
        }
      ],
      "source": [
        "# declare symbols\n",
        "x1, x2 = sp.symbols('x_1, x_2')\n",
        "\n",
        "# define new variable\n",
        "y = x1 + 2*x2 + 3*x1*x2\n",
        "disp('y =', y) \n",
        "\n",
        "# differentiate\n",
        "dydx2 = y.diff(x2)\n",
        "disp('dy/dx_1 =', dydx2)"
      ]
    },
    {
      "cell_type": "code",
      "execution_count": 26,
      "metadata": {
        "colab": {
          "base_uri": "https://localhost:8080/",
          "height": 130
        },
        "id": "h3QGy2nyJlJe",
        "outputId": "d4fdd418-14d1-4982-f311-c66a9da1c735"
      },
      "outputs": [
        {
          "output_type": "display_data",
          "data": {
            "text/plain": [
              "Eq(3*x_1*x_2 + x_1 + 2*x_2, 0)"
            ],
            "text/latex": "$\\displaystyle 3 x_{1} x_{2} + x_{1} + 2 x_{2} = 0$"
          },
          "metadata": {}
        },
        {
          "output_type": "stream",
          "name": "stdout",
          "text": [
            "\n",
            "Solutions:\n"
          ]
        },
        {
          "output_type": "display_data",
          "data": {
            "text/plain": [
              "x_1"
            ],
            "text/latex": "$\\displaystyle x_{1}$"
          },
          "metadata": {}
        },
        {
          "output_type": "display_data",
          "data": {
            "text/plain": [
              "'\\\\in'"
            ],
            "application/vnd.google.colaboratory.intrinsic+json": {
              "type": "string"
            }
          },
          "metadata": {}
        },
        {
          "output_type": "display_data",
          "data": {
            "text/plain": [
              "{-2*x_2/(3*x_2 + 1)}"
            ]
          },
          "metadata": {}
        }
      ],
      "source": [
        "# create equation\n",
        "eq = sp.Eq(y, 0)\n",
        "disp(eq)\n",
        "\n",
        "# solve eq for x1 and x2\n",
        "sol = sp.solve(eq, x1, dict=True)\n",
        "\n",
        "print(\"\\nSolutions:\")\n",
        "disp(x1, r'\\in', {s[x1] for s in sol})"
      ]
    },
    {
      "cell_type": "code",
      "execution_count": 27,
      "metadata": {
        "colab": {
          "base_uri": "https://localhost:8080/",
          "height": 128
        },
        "id": "dxrQavqtJukL",
        "outputId": "d991ccb4-8bab-4b8e-fc80-41015c99d7a3"
      },
      "outputs": [
        {
          "output_type": "display_data",
          "data": {
            "text/plain": [
              "'\\\\nabla y ='"
            ],
            "application/vnd.google.colaboratory.intrinsic+json": {
              "type": "string"
            }
          },
          "metadata": {}
        },
        {
          "output_type": "display_data",
          "data": {
            "text/plain": [
              "Eq(Matrix([\n",
              "[3*x_2 + 1],\n",
              "[3*x_1 + 2]]), Matrix([\n",
              "[0],\n",
              "[0]]))"
            ],
            "text/latex": "$\\displaystyle \\left[\\begin{matrix}3 x_{2} + 1\\\\3 x_{1} + 2\\end{matrix}\\right] = \\left[\\begin{matrix}0\\\\0\\end{matrix}\\right]$"
          },
          "metadata": {}
        },
        {
          "output_type": "stream",
          "name": "stdout",
          "text": [
            "\n",
            "Solutions:\n"
          ]
        },
        {
          "output_type": "display_data",
          "data": {
            "text/plain": [
              "[{x_2: -1/3, x_1: -2/3}]"
            ]
          },
          "metadata": {}
        }
      ],
      "source": [
        "# solve systems of equations\n",
        "\n",
        "# variables vector\n",
        "x = sp.Matrix([x1, x2])\n",
        "\n",
        "# gradient vector\n",
        "grad = y.diff(x)\n",
        "\n",
        "# result vector\n",
        "vals = sp.Matrix([0, 0])\n",
        "\n",
        "# create system of equation\n",
        "eq = sp.Eq(grad, vals)\n",
        "disp(r'\\nabla y =', eq)\n",
        "\n",
        "# solve system\n",
        "sol = sp.solve(eq, x1, x2, dict=True)\n",
        "\n",
        "print(\"\\nSolutions:\")\n",
        "\n",
        "disp(sol)"
      ]
    },
    {
      "cell_type": "markdown",
      "metadata": {
        "id": "5J7_kpCL0eIA"
      },
      "source": [
        "## Challenges"
      ]
    },
    {
      "cell_type": "markdown",
      "metadata": {
        "id": "vpt3NTLMQ4sc"
      },
      "source": [
        "### A. Ränta på ränta 💸\n",
        "\n",
        "The return on compounded interest in given by\n",
        "$$\n",
        "  R(r, n) = \\left( 1 + \\frac{r}{n} \\right)^n,\n",
        "$$\n",
        "\n",
        "where $r$ is the interest rate and $n$ is the periods of compounding.\n",
        "\n",
        "Write a function that calculates $R(r, n)$. If $r=1$, what is $\\lim\\limits_{n \\to \\infty} R(r, n)$?*\n",
        "\n",
        "---\n",
        "\\* You can approximate $n \\to \\infty$ by using a large $n$."
      ]
    },
    {
      "cell_type": "code",
      "execution_count": 28,
      "metadata": {
        "id": "L3ILIqErQ0Qx"
      },
      "outputs": [],
      "source": [
        "# your code here\n"
      ]
    },
    {
      "cell_type": "markdown",
      "metadata": {
        "id": "9fqgWYGSREt2"
      },
      "source": [
        "### B. To see a World ⌛\n",
        "\n",
        "A [grain](https://en.wikipedia.org/wiki/Grain_(unit)) is a unit of measurement equal to **64.79891 mg**.\n",
        "\n",
        "Suppose that sand is made of pure silica **SiO<sub>2</sub>**, which is composed of **one** silicon and **two** oxygen atoms.\n",
        "\n",
        "\n",
        "The atomic mass of silicon and oxygen are respectively **28.086 g/mole** and **15.999 g/mole**.\n",
        "\n",
        "A mole is **6.02214076 × 10<sup>23</sup>** particles.\n",
        "\n",
        "How many atoms are there in a grain of sand?"
      ]
    },
    {
      "cell_type": "code",
      "execution_count": 29,
      "metadata": {
        "id": "1g8Ql2RwXBPx"
      },
      "outputs": [],
      "source": [
        "# your code here\n"
      ]
    },
    {
      "cell_type": "markdown",
      "metadata": {
        "id": "2nhz6Paw_3Fq"
      },
      "source": [
        "### C. Slope of a curve 🍎\n",
        "\n",
        "The derivative of a function $f$ evaluated at $x$ can be defined as follows:\n",
        "$$\n",
        "f'(x) = \\lim_{h\\to 0}\\frac{f(x+h) - f(x)}{h}\n",
        "$$\n",
        "\n",
        "Create a function called `diff` that approximates the derivative of a given function `f` at point `x`:\n",
        "\n",
        "$$\n",
        "\\texttt{diff}(f, x, dx) = \\frac{f(x + dx) - f(x)}{dx}.\n",
        "$$\n",
        "\n",
        "The function takes at least three arguments.\n",
        "* `f` : the function to differentiate,\n",
        "* `x` : the point where the derivative is evaluated,\n",
        "* `dx` : a small value to approximate an infinitessimal change.\n",
        "\n",
        "Check the results of the derivative with a test function `f`. Optimize the function's result by adjusting `dx` and using the `round()` function.\n",
        "\n",
        "**Extra:** plot the function and numerical derivative."
      ]
    },
    {
      "cell_type": "code",
      "execution_count": 30,
      "metadata": {
        "id": "IZad24zYB4oZ"
      },
      "outputs": [],
      "source": [
        "# test function\n",
        "def f(x):\n",
        "    return x**2 + 2 * x\n",
        "\n",
        "# your code here\n"
      ]
    },
    {
      "cell_type": "markdown",
      "metadata": {
        "id": "Tj00cpCKL4Ah"
      },
      "source": [
        "### D. A familiar problem 🔬\n",
        "\n",
        "Use `sympy` to solve the standard Cobb-Douglas utility maximization problem\n",
        "\n",
        "$$\n",
        "\\begin{align}\n",
        "  \\max_{x_1, x_2} \\quad x_1^\\alpha x_2^{1-\\alpha}\n",
        "  \\quad\\text{s.t.}\\quad\n",
        "  M = p_1 x_1 + p_2 x_2\n",
        "\\end{align}\n",
        "$$\n",
        "\n",
        "by solving the first-order conditions of the Lagrangian with respect to $x_1, x_2,$ and $\\lambda$,\n",
        "$$\n",
        "  \\mathcal{L} = x_1^\\alpha x_2^{1-\\alpha} + \\lambda [M - (p_1 x_1 + p_2 x_2)].\n",
        "$$"
      ]
    },
    {
      "cell_type": "code",
      "execution_count": 31,
      "metadata": {
        "id": "Z0qhJlq7KgLK"
      },
      "outputs": [],
      "source": [
        "# your code here\n"
      ]
    },
    {
      "cell_type": "markdown",
      "metadata": {
        "id": "03Vou6LoL1GQ"
      },
      "source": [
        "## Solutions\n",
        "\n",
        "Unhide cells to see solutions."
      ]
    },
    {
      "cell_type": "markdown",
      "metadata": {
        "id": "InrWrFG-Enb_"
      },
      "source": [
        "### Solution A."
      ]
    },
    {
      "cell_type": "code",
      "execution_count": 32,
      "metadata": {
        "colab": {
          "base_uri": "https://localhost:8080/"
        },
        "id": "CWbbfpIQR3Zr",
        "outputId": "ea0ea28a-9080-4d35-d5f4-6ea43a569fb8"
      },
      "outputs": [
        {
          "output_type": "stream",
          "name": "stdout",
          "text": [
            "R(r=1, n=1e+06) \t=  2.7182804690957534\n",
            "math.e**r = math.e**1 \t=  2.718281828459045\n"
          ]
        }
      ],
      "source": [
        "# your code here\n",
        "\n",
        "def R(r, n):\n",
        "  return (1 + r/n)**n\n",
        "\n",
        "r = 1\n",
        "n = 1_000_000\n",
        "\n",
        "print(f'R(r={r}, n={n:.0e}) \\t= ', R(r, n))\n",
        "\n",
        "# convergent value\n",
        "import math\n",
        "print(f'math.e**r = math.e**{r} \\t= ', math.e**r)"
      ]
    },
    {
      "cell_type": "markdown",
      "metadata": {
        "id": "G5ahr4R6c-z0"
      },
      "source": [
        "### Solution B."
      ]
    },
    {
      "cell_type": "code",
      "execution_count": 33,
      "metadata": {
        "colab": {
          "base_uri": "https://localhost:8080/"
        },
        "id": "x5KdzYyvR2AZ",
        "outputId": "8d53feec-a276-421f-a175-d62bf657e087"
      },
      "outputs": [
        {
          "output_type": "stream",
          "name": "stdout",
          "text": [
            "There are approximately 1.95e+21 atoms in a grain of sand.\n"
          ]
        }
      ],
      "source": [
        "# your code here\n",
        "\n",
        "grain_per_mg = 1/64.79891   # grain per mg\n",
        "g_per_mole_Si = 28.086      # g / mole of Silicon\n",
        "g_per_mole_O = 15.999       # g / mole of Oxygen\n",
        "n_per_mole = 6.02214076e23  # n particles / mole\n",
        "\n",
        "# g / mole of SiO2\n",
        "g_per_mole_SiO2 = g_per_mole_Si + 2 * g_per_mole_O\n",
        "\n",
        "# (grain / mg) * (1000 mg / g) * (g / mole)\n",
        "grain_per_mole_SiO2 = grain_per_mg * 1000 * g_per_mole_SiO2 \n",
        "\n",
        "# (3 atoms / n SiO2) * (n / mole) * (mole / grain)\n",
        "atoms_per_grain = 3 * n_per_mole / grain_per_mole_SiO2\n",
        "\n",
        "print(f'There are approximately {atoms_per_grain:.2e} atoms in a grain of sand.')"
      ]
    },
    {
      "cell_type": "markdown",
      "metadata": {
        "id": "jGLvMgoeW4uE"
      },
      "source": [
        "### Solution C.\n"
      ]
    },
    {
      "cell_type": "code",
      "execution_count": 34,
      "metadata": {
        "colab": {
          "base_uri": "https://localhost:8080/",
          "height": 0
        },
        "id": "nvQqvaaGEkFl",
        "outputId": "c2456d0d-5514-4223-be2c-b7a8ce856c35"
      },
      "outputs": [
        {
          "output_type": "stream",
          "name": "stdout",
          "text": [
            "df/dx: 42.00000\n"
          ]
        },
        {
          "output_type": "display_data",
          "data": {
            "text/plain": [
              "<Figure size 432x288 with 1 Axes>"
            ],
            "image/png": "[encoded data removed]"
          },
          "metadata": {
            "needs_background": "light"
          }
        }
      ],
      "source": [
        "# test function\n",
        "def f(x):\n",
        "    return x**2 + 2 * x\n",
        "\n",
        "# your code here\n",
        "\n",
        "def diff(f,         # function to differentiate\n",
        "         x,         # value at which to evaluate derivative\n",
        "         dx=10e-8,  # small dx\n",
        "         ):\n",
        "  \n",
        "  return (f(x + dx) - f(x)) / dx\n",
        "\n",
        "print(f'df/dx: {diff(f, 20):,.5f}')\n",
        "\n",
        "\n",
        "# extra: plot function and derivative\n",
        "\n",
        "import numpy as np\n",
        "import matplotlib.pyplot as plt\n",
        "%matplotlib inline\n",
        "\n",
        "# lienar space\n",
        "x = np.linspace(0, 5, 100)\n",
        "\n",
        "# plot function\n",
        "plt.plot(x, f(x))\n",
        "\n",
        "# plot derivative\n",
        "plt.plot(x, diff(f, x))\n",
        "\n",
        "plt.legend(['$f(x)$', '$df/dx$'])\n",
        "plt.show()"
      ]
    },
    {
      "cell_type": "markdown",
      "metadata": {
        "id": "Vk2zjtozNRwO"
      },
      "source": [
        "### Solution D.\n"
      ]
    },
    {
      "cell_type": "code",
      "execution_count": 35,
      "metadata": {
        "colab": {
          "base_uri": "https://localhost:8080/",
          "height": 0
        },
        "id": "RXXxa-PaBcNl",
        "outputId": "c0714240-b207-48e2-9742-d2d59222ba06"
      },
      "outputs": [
        {
          "output_type": "stream",
          "name": "stdout",
          "text": [
            "Lagrangian:\n"
          ]
        },
        {
          "output_type": "display_data",
          "data": {
            "text/plain": [
              "'\\\\mathcal{L} ='"
            ],
            "application/vnd.google.colaboratory.intrinsic+json": {
              "type": "string"
            }
          },
          "metadata": {}
        },
        {
          "output_type": "display_data",
          "data": {
            "text/plain": [
              "lambda*(M - p_1*x_1 - p_2*x_2) + x_1**alpha*x_2**(1 - alpha)"
            ],
            "text/latex": "$\\displaystyle \\lambda \\left(M - p_{1} x_{1} - p_{2} x_{2}\\right) + x_{1}^{\\alpha} x_{2}^{1 - \\alpha}$"
          },
          "metadata": {}
        },
        {
          "output_type": "stream",
          "name": "stdout",
          "text": [
            "\n",
            "FOCs:\n"
          ]
        },
        {
          "output_type": "display_data",
          "data": {
            "text/plain": [
              "'\\n\\\\nabla \\\\mathcal L\\n=\\n\\\\begin{bmatrix} d\\\\mathcal L / dx_1 \\\\newline\\n  d\\\\mathcal L / dx_2 \\\\newline\\n  d\\\\mathcal L /d \\\\lambda\\n\\\\end{bmatrix}\\n'"
            ],
            "application/vnd.google.colaboratory.intrinsic+json": {
              "type": "string"
            }
          },
          "metadata": {}
        },
        {
          "output_type": "display_data",
          "data": {
            "text/plain": [
              "'='"
            ],
            "application/vnd.google.colaboratory.intrinsic+json": {
              "type": "string"
            }
          },
          "metadata": {}
        },
        {
          "output_type": "display_data",
          "data": {
            "text/plain": [
              "Eq(Matrix([\n",
              "[       alpha*x_1**alpha*x_2**(1 - alpha)/x_1 - lambda*p_1],\n",
              "[-lambda*p_2 + x_1**alpha*x_2**(1 - alpha)*(1 - alpha)/x_2],\n",
              "[                                    M - p_1*x_1 - p_2*x_2]]), Matrix([\n",
              "[0],\n",
              "[0],\n",
              "[0]]))"
            ],
            "text/latex": "$\\displaystyle \\left[\\begin{matrix}\\frac{\\alpha x_{1}^{\\alpha} x_{2}^{1 - \\alpha}}{x_{1}} - \\lambda p_{1}\\\\- \\lambda p_{2} + \\frac{x_{1}^{\\alpha} x_{2}^{1 - \\alpha} \\left(1 - \\alpha\\right)}{x_{2}}\\\\M - p_{1} x_{1} - p_{2} x_{2}\\end{matrix}\\right] = \\left[\\begin{matrix}0\\\\0\\\\0\\end{matrix}\\right]$"
          },
          "metadata": {}
        },
        {
          "output_type": "stream",
          "name": "stdout",
          "text": [
            "\n",
            "Solutions:\n"
          ]
        },
        {
          "output_type": "display_data",
          "data": {
            "text/plain": [
              "'x_1^* ='"
            ],
            "application/vnd.google.colaboratory.intrinsic+json": {
              "type": "string"
            }
          },
          "metadata": {}
        },
        {
          "output_type": "display_data",
          "data": {
            "text/plain": [
              "M*alpha/p_1"
            ],
            "text/latex": "$\\displaystyle \\frac{M \\alpha}{p_{1}}$"
          },
          "metadata": {}
        },
        {
          "output_type": "display_data",
          "data": {
            "text/plain": [
              "'x_2^* ='"
            ],
            "application/vnd.google.colaboratory.intrinsic+json": {
              "type": "string"
            }
          },
          "metadata": {}
        },
        {
          "output_type": "display_data",
          "data": {
            "text/plain": [
              "M*(1 - alpha)/p_2"
            ],
            "text/latex": "$\\displaystyle \\frac{M \\left(1 - \\alpha\\right)}{p_{2}}$"
          },
          "metadata": {}
        },
        {
          "output_type": "display_data",
          "data": {
            "text/plain": [
              "'\\\\lambda^* ='"
            ],
            "application/vnd.google.colaboratory.intrinsic+json": {
              "type": "string"
            }
          },
          "metadata": {}
        },
        {
          "output_type": "display_data",
          "data": {
            "text/plain": [
              "(M*alpha/p_1)**alpha*(-M*(alpha - 1)/p_2)**(1 - alpha)/M"
            ],
            "text/latex": "$\\displaystyle \\frac{\\left(\\frac{M \\alpha}{p_{1}}\\right)^{\\alpha} \\left(- \\frac{M \\left(\\alpha - 1\\right)}{p_{2}}\\right)^{1 - \\alpha}}{M}$"
          },
          "metadata": {}
        }
      ],
      "source": [
        "# your code here\n",
        "\n",
        "### Setup ###\n",
        "\n",
        "# variables\n",
        "vars = sp.symbols('x_1, x_2, lambda')\n",
        "\n",
        "vars = sp.Matrix(vars) # make vector of variables\n",
        "\n",
        "x1, x2, lm = vars # assign individually\n",
        "\n",
        "# parameters\n",
        "alpha, p1, p2, M = sp.symbols('alpha, p_1, p_2, M')\n",
        "\n",
        "# production function\n",
        "y = x1**alpha * x2**(1-alpha)\n",
        "\n",
        "# form lagrangian\n",
        "L = y + lm * (M - (p1 * x1 + p2 * x2))\n",
        "\n",
        "print(\"Lagrangian:\")\n",
        "disp(r'\\mathcal{L} =', L)\n",
        "\n",
        "\n",
        "### FOC ###\n",
        "\n",
        "# gradient vector\n",
        "grad = L.diff(vars)\n",
        "\n",
        "# set gradient to zero\n",
        "zeros = sp.zeros(*grad.shape)\n",
        "eq = sp.Eq(grad, zeros)\n",
        "\n",
        "# print latex\n",
        "print('\\nFOCs:')\n",
        "\n",
        "grad_latex = r'''\n",
        "\\nabla \\mathcal L\n",
        "=\n",
        "\\begin{bmatrix} d\\mathcal L / dx_1 \\newline\n",
        "  d\\mathcal L / dx_2 \\newline\n",
        "  d\\mathcal L /d \\lambda\n",
        "\\end{bmatrix}\n",
        "'''\n",
        "disp(grad_latex, '=',  eq)\n",
        "\n",
        "\n",
        "### Solve equations ###\n",
        "\n",
        "# solve system\n",
        "sol = sp.solve(eq, x1, x2, lm)\n",
        "\n",
        "# optimal values\n",
        "x1star, x2star, lmstar = sol[0]\n",
        "\n",
        "print('\\nSolutions:')\n",
        "\n",
        "disp('x_1^* =', x1star)\n",
        "disp('x_2^* =', x2star)\n",
        "disp(r'\\lambda^* =', lmstar)"
      ]
    },
    {
      "cell_type": "markdown",
      "metadata": {
        "id": "_SuhGwPqPOnT"
      },
      "source": [
        "# 2. Control flow"
      ]
    },
    {
      "cell_type": "markdown",
      "metadata": {
        "id": "WFf5X6x0RD5V"
      },
      "source": [
        "## 2.0. Boolean operators\n",
        "\n",
        "`not` (negation) : True if false, false if true\n",
        "\n",
        "`and` (conjunction) : True if **both** are true, else false\n",
        "\n",
        "`or` (disjunction) : True if **either** are true, else false"
      ]
    },
    {
      "cell_type": "code",
      "execution_count": 36,
      "metadata": {
        "colab": {
          "base_uri": "https://localhost:8080/"
        },
        "id": "GXnMQIdwJ7jk",
        "outputId": "16b25f18-4a24-4a47-ca48-c12a16f42ead"
      },
      "outputs": [
        {
          "output_type": "stream",
          "name": "stdout",
          "text": [
            "False\n",
            "True\n"
          ]
        }
      ],
      "source": [
        "# not (negation)\n",
        "\n",
        "print(not True)\n",
        "\n",
        "print(not False)"
      ]
    },
    {
      "cell_type": "code",
      "execution_count": 37,
      "metadata": {
        "colab": {
          "base_uri": "https://localhost:8080/"
        },
        "id": "Zqz967EUQnUe",
        "outputId": "0f57568b-5b7b-4a9f-ecb0-3e7aa02610ee"
      },
      "outputs": [
        {
          "output_type": "stream",
          "name": "stdout",
          "text": [
            "True and True = True\n",
            "True and False = False\n",
            "False and True = False\n",
            "False and False = False\n"
          ]
        }
      ],
      "source": [
        "# and (conjunction)\n",
        "\n",
        "op = 'and'\n",
        "\n",
        "a, b = True, True\n",
        "print(f'{a} {op} {b} =', a and b)\n",
        "\n",
        "a, b = True, False\n",
        "print(f'{a} {op} {b} =', a and b)\n",
        "\n",
        "a, b = False, True\n",
        "print(f'{a} {op} {b} =', a and b)\n",
        "\n",
        "a, b = False, False\n",
        "print(f'{a} {op} {b} =', a and b)"
      ]
    },
    {
      "cell_type": "code",
      "execution_count": 38,
      "metadata": {
        "colab": {
          "base_uri": "https://localhost:8080/"
        },
        "id": "v0j-GrnJQy0Q",
        "outputId": "dc5007a8-28b7-470d-d388-2e9a06ba44ab"
      },
      "outputs": [
        {
          "output_type": "stream",
          "name": "stdout",
          "text": [
            "True or True = True\n",
            "True or False = True\n",
            "False or True = True\n",
            "False or False = False\n"
          ]
        }
      ],
      "source": [
        "# or (disjunction)\n",
        "\n",
        "op = 'or'\n",
        "\n",
        "a, b = True, True\n",
        "print(f'{a} {op} {b} =', a or b)\n",
        "\n",
        "a, b = True, False\n",
        "print(f'{a} {op} {b} =', a or b)\n",
        "\n",
        "a, b = False, True\n",
        "print(f'{a} {op} {b} =', a or b)\n",
        "\n",
        "a, b = False, False\n",
        "print(f'{a} {op} {b} =', a or b)"
      ]
    },
    {
      "cell_type": "code",
      "execution_count": 39,
      "metadata": {
        "colab": {
          "base_uri": "https://localhost:8080/"
        },
        "id": "Op25CT98KAjl",
        "outputId": "77417ddf-ab84-44a4-e1c4-5f3447f6e8b9"
      },
      "outputs": [
        {
          "output_type": "stream",
          "name": "stdout",
          "text": [
            "False False\n",
            "True True\n"
          ]
        }
      ],
      "source": [
        "# combining boolean operations\n",
        "\n",
        "# e.g., De Morgan's laws\n",
        "\n",
        "x, y = True, False\n",
        "\n",
        "dm1 = not ((not x) or (not y))\n",
        "print(dm1, x and y)\n",
        "\n",
        "dm2 = not ((not x) and (not y))\n",
        "print(dm2, x or y)"
      ]
    },
    {
      "cell_type": "code",
      "execution_count": 40,
      "metadata": {
        "colab": {
          "base_uri": "https://localhost:8080/"
        },
        "id": "bsob3yCIXUeO",
        "outputId": "c8aea8bc-6336-48e1-de3a-8c70ad7eb146"
      },
      "outputs": [
        {
          "output_type": "stream",
          "name": "stdout",
          "text": [
            "x = 2, y = 2\n",
            "x == y: True\n",
            "x > y : False\n",
            "x >= y: True\n",
            "x < y : False\n",
            "x <= y: True\n"
          ]
        }
      ],
      "source": [
        "# comparison operators\n",
        "\n",
        "x, y = 2, 2\n",
        "print(f'x = {x}, y = {y}')\n",
        "\n",
        "print('x == y:', x == y)\n",
        "\n",
        "print('x > y :', x > y)\n",
        "print('x >= y:', x >= y)\n",
        "\n",
        "print('x < y :', x < y)\n",
        "print('x <= y:', x <= y)"
      ]
    },
    {
      "cell_type": "code",
      "execution_count": 41,
      "metadata": {
        "colab": {
          "base_uri": "https://localhost:8080/"
        },
        "id": "O93EeIoWJWEI",
        "outputId": "16842560-f4ea-411c-973e-1de9f462bb3f"
      },
      "outputs": [
        {
          "output_type": "stream",
          "name": "stdout",
          "text": [
            "a in [1, 2, 3, 'a', 'b', 'c'] = \n",
            "True\n"
          ]
        }
      ],
      "source": [
        "# membership\n",
        "\n",
        "x = 'a'\n",
        "y = [1, 2, 3, 'a', 'b', 'c']\n",
        "\n",
        "print(f'{x} in {y} = ')\n",
        "print(x in y)"
      ]
    },
    {
      "cell_type": "markdown",
      "metadata": {
        "id": "MSmX_yNJRA6k"
      },
      "source": [
        "## 2.1. If statements"
      ]
    },
    {
      "cell_type": "code",
      "source": [
        "x = -3\n",
        "\n",
        "if x > 0:\n",
        "    print(f'x = {x} is positive')\n",
        "\n",
        "elif x < 0:\n",
        "    print(f'x = {x} is negative')"
      ],
      "metadata": {
        "colab": {
          "base_uri": "https://localhost:8080/"
        },
        "id": "9aL3quqSmOID",
        "outputId": "a497c6ac-da01-4422-acee-19e367f3e5d5"
      },
      "execution_count": 42,
      "outputs": [
        {
          "output_type": "stream",
          "name": "stdout",
          "text": [
            "x = -3 is negative\n"
          ]
        }
      ]
    },
    {
      "cell_type": "code",
      "execution_count": 43,
      "metadata": {
        "colab": {
          "base_uri": "https://localhost:8080/"
        },
        "id": "_Tdf38taHnHa",
        "outputId": "41a07396-e468-46ef-e103-b1074a0fe356"
      },
      "outputs": [
        {
          "output_type": "stream",
          "name": "stdout",
          "text": [
            "What's for lunch today? 🤤\n",
            "It's Taco Tuesday! 🌮\n"
          ]
        }
      ],
      "source": [
        "msg = 'What\\'s for lunch today? 🤤'\n",
        "print(msg)\n",
        "\n",
        "dow = 2         # 1 for Monday\n",
        "is_open = True  # restaurant is open\n",
        "\n",
        "if is_open:\n",
        "        \n",
        "    if dow == 2:\n",
        "        msg = 'It\\'s Taco Tuesday! 🌮'\n",
        "\n",
        "    elif dow == 4:\n",
        "        msg = 'It\\'s Peasoup Thursday! 🍲'\n",
        "\n",
        "    elif dow == 5:\n",
        "        msg = 'It\\'s Pizza Friday! 🍕'\n",
        "\n",
        "    else:\n",
        "        msg = 'Just regular lunch today 😋'\n",
        "\n",
        "else:\n",
        "    msg = 'Cafeteria is closed '\n",
        "\n",
        "print(msg)"
      ]
    },
    {
      "cell_type": "code",
      "execution_count": 44,
      "metadata": {
        "colab": {
          "base_uri": "https://localhost:8080/"
        },
        "id": "IoeqBrmZObpG",
        "outputId": "d483c0db-22d0-40be-bb66-2cd4a432fd46"
      },
      "outputs": [
        {
          "output_type": "stream",
          "name": "stdout",
          "text": [
            "3.0\n",
            "2.8284271247461903\n"
          ]
        }
      ],
      "source": [
        "def avg(x, y, geo=False):\n",
        "\n",
        "    # geometric average\n",
        "    if geo:\n",
        "        return (x * y) ** (1/2)\n",
        "\n",
        "    else:\n",
        "        return (x + y) / 2\n",
        "\n",
        "x, y = 2, 4\n",
        "\n",
        "print(avg(x, y))\n",
        "\n",
        "print(avg(x, y, geo=True))"
      ]
    },
    {
      "cell_type": "code",
      "execution_count": 45,
      "metadata": {
        "colab": {
          "base_uri": "https://localhost:8080/"
        },
        "id": "_SaDEh4lNXxb",
        "outputId": "3b5d7d6e-a482-4cf7-a984-c9807cb37068"
      },
      "outputs": [
        {
          "output_type": "stream",
          "name": "stdout",
          "text": [
            "Simple mean: 3.0\n",
            "Geometric mean: 2.605171084697352\n"
          ]
        }
      ],
      "source": [
        "def prod(nums):\n",
        "\n",
        "    res = 1\n",
        "\n",
        "    for x in nums:\n",
        "        res *= x\n",
        "\n",
        "    return res\n",
        "\n",
        "def avg(nums, geo=False):\n",
        "\n",
        "    if geo:\n",
        "        return prod(nums) ** (1/len(nums))\n",
        "\n",
        "    else:\n",
        "        return sum(nums) / len(nums)\n",
        "\n",
        "\n",
        "nums = [1, 2, 3, 4, 5]\n",
        "print('Simple mean:', avg(nums))\n",
        "print('Geometric mean:', avg(nums, geo=True))"
      ]
    },
    {
      "cell_type": "markdown",
      "metadata": {
        "id": "hUc76mKUdK4f"
      },
      "source": [
        "## 2.2. Loops"
      ]
    },
    {
      "cell_type": "code",
      "execution_count": 46,
      "metadata": {
        "colab": {
          "base_uri": "https://localhost:8080/"
        },
        "id": "43huV-0-DT8o",
        "outputId": "86508f26-bd27-4db7-d1ab-ed5807e864de"
      },
      "outputs": [
        {
          "output_type": "stream",
          "name": "stdout",
          "text": [
            "0\n",
            "1\n",
            "2\n",
            "3\n",
            "4\n",
            "5\n",
            "6\n",
            "7\n",
            "8\n",
            "9\n"
          ]
        }
      ],
      "source": [
        "# print numbers from 0 to 10\n",
        "\n",
        "for i in range(10):\n",
        "    \n",
        "    print(i)"
      ]
    },
    {
      "cell_type": "code",
      "execution_count": 47,
      "metadata": {
        "colab": {
          "base_uri": "https://localhost:8080/"
        },
        "id": "Sqvk1QxfXpeR",
        "outputId": "6d8c5734-2f74-4864-c278-216917dd9db5"
      },
      "outputs": [
        {
          "output_type": "stream",
          "name": "stdout",
          "text": [
            "hello world\n",
            "hello world\n",
            "hello world\n",
            "hello world\n",
            "hello world\n",
            "hello world\n",
            "hello world\n",
            "hello world\n",
            "hello world\n",
            "hello world\n"
          ]
        }
      ],
      "source": [
        "# print 'hello world' repeatedly\n",
        "\n",
        "for _ in range(10):\n",
        "    \n",
        "    print('hello world')"
      ]
    },
    {
      "cell_type": "code",
      "execution_count": 48,
      "metadata": {
        "colab": {
          "base_uri": "https://localhost:8080/"
        },
        "id": "XOK47KBqFRgf",
        "outputId": "07323d2a-c496-43bc-9f96-81af9e1639b7"
      },
      "outputs": [
        {
          "output_type": "stream",
          "name": "stdout",
          "text": [
            "45\n"
          ]
        }
      ],
      "source": [
        "# sum numbers from 1 to 10\n",
        "s = 0\n",
        "\n",
        "for n in range(10):\n",
        "    \n",
        "    s += n\n",
        "\n",
        "print(s)"
      ]
    },
    {
      "cell_type": "code",
      "execution_count": 49,
      "metadata": {
        "colab": {
          "base_uri": "https://localhost:8080/"
        },
        "id": "Rex6gcRBGfmo",
        "outputId": "ceaf22e2-3678-44a7-fa8e-1da020039f0d"
      },
      "outputs": [
        {
          "output_type": "stream",
          "name": "stdout",
          "text": [
            "0\n",
            "2\n",
            "4\n",
            "6\n",
            "8\n",
            "10\n",
            "12\n",
            "14\n",
            "16\n",
            "18\n",
            "20\n"
          ]
        }
      ],
      "source": [
        "# print even numbers between 0 and 20\n",
        "\n",
        "for n in range(21):\n",
        "    \n",
        "    if n % 2 == 0:\n",
        "        \n",
        "        print(n)"
      ]
    },
    {
      "cell_type": "code",
      "execution_count": 50,
      "metadata": {
        "colab": {
          "base_uri": "https://localhost:8080/"
        },
        "id": "fX96tZwtDY8_",
        "outputId": "db5507db-0a57-45b8-9525-f0830b516e4f"
      },
      "outputs": [
        {
          "output_type": "stream",
          "name": "stdout",
          "text": [
            "2\n",
            "5\n",
            "8\n",
            "11\n",
            "14\n",
            "17\n"
          ]
        }
      ],
      "source": [
        "# print every third number from 2\n",
        "\n",
        "for n in range(2, 20, 3):\n",
        "    \n",
        "    print(n)"
      ]
    },
    {
      "cell_type": "code",
      "execution_count": 51,
      "metadata": {
        "colab": {
          "base_uri": "https://localhost:8080/"
        },
        "id": "1JHJGrHZHMZP",
        "outputId": "27d1d7f6-b350-4089-af75-89c07e0bcc8a"
      },
      "outputs": [
        {
          "output_type": "stream",
          "name": "stdout",
          "text": [
            "1\n",
            "2\n",
            "2\n",
            "3\n",
            "3\n",
            "3\n",
            "4\n",
            "4\n",
            "4\n",
            "4\n",
            "5\n",
            "5\n",
            "5\n",
            "5\n",
            "5\n"
          ]
        }
      ],
      "source": [
        "# print each n from 0 to 5 n times\n",
        "\n",
        "for n in range(6):\n",
        "  \n",
        "    for _ in range(n):\n",
        "\n",
        "        print(n)"
      ]
    },
    {
      "cell_type": "code",
      "execution_count": 52,
      "metadata": {
        "colab": {
          "base_uri": "https://localhost:8080/"
        },
        "id": "03aSieoEZDcc",
        "outputId": "05d016d1-5832-469c-8b87-e857b3af505d"
      },
      "outputs": [
        {
          "output_type": "stream",
          "name": "stdout",
          "text": [
            "0\n",
            "2\n",
            "4\n",
            "6\n",
            "8\n",
            "10\n",
            "12\n",
            "14\n",
            "16\n",
            "18\n",
            "20\n"
          ]
        }
      ],
      "source": [
        "# iterate until condition is fulfilled\n",
        "\n",
        "n = 0\n",
        "\n",
        "while n < 21:\n",
        "    \n",
        "    print(n)\n",
        "    \n",
        "    n = n + 2"
      ]
    },
    {
      "cell_type": "code",
      "execution_count": 53,
      "metadata": {
        "colab": {
          "base_uri": "https://localhost:8080/"
        },
        "id": "TXEk6DYwLgcM",
        "outputId": "37e8e6f6-e99b-4e4c-cc35-7fdae50fbfbb"
      },
      "outputs": [
        {
          "output_type": "stream",
          "name": "stdout",
          "text": [
            "0\n",
            "1\n",
            "2\n",
            "3\n",
            "4\n",
            "6\n"
          ]
        }
      ],
      "source": [
        "for i in range(11):\n",
        "    \n",
        "    if i == 3:\n",
        "        pass        # do nothing\n",
        "    \n",
        "    if i == 5:\n",
        "        continue    # go to next iteration\n",
        "    \n",
        "    if i == 7:\n",
        "        break       # end loop\n",
        "\n",
        "    print(i)"
      ]
    },
    {
      "cell_type": "markdown",
      "metadata": {
        "id": "4rYZPYsPQK1o"
      },
      "source": [
        "## 2.3. Iterables"
      ]
    },
    {
      "cell_type": "code",
      "execution_count": 54,
      "metadata": {
        "colab": {
          "base_uri": "https://localhost:8080/"
        },
        "id": "i47zJqkuQQ81",
        "outputId": "04a733db-2285-4629-e395-81248619f6d7"
      },
      "outputs": [
        {
          "output_type": "stream",
          "name": "stdout",
          "text": [
            "alpha\n",
            "beta\n",
            "gamma\n",
            "delta\n"
          ]
        }
      ],
      "source": [
        "letters = ['alpha', 'beta', 'gamma', 'delta']\n",
        "\n",
        "for letter in letters:\n",
        "    \n",
        "    print(letter)"
      ]
    },
    {
      "cell_type": "code",
      "execution_count": 55,
      "metadata": {
        "colab": {
          "base_uri": "https://localhost:8080/"
        },
        "id": "ntxXFPrpPs-j",
        "outputId": "1604a4bd-6d8e-4458-c289-8717ffdc9165"
      },
      "outputs": [
        {
          "output_type": "stream",
          "name": "stdout",
          "text": [
            "[('a', 'b'), ('a', 'c'), ('b', 'a'), ('b', 'c'), ('c', 'a'), ('c', 'b')]\n",
            "[('a', 'b'), ('a', 'c'), ('b', 'c')]\n"
          ]
        }
      ],
      "source": [
        "import itertools\n",
        "\n",
        "x = ['a', 'b', 'c']\n",
        "\n",
        "perms = itertools.permutations(x, r=2)\n",
        "print(list(perms))\n",
        "\n",
        "combs = itertools.combinations(x, r=2)\n",
        "print(list(combs))"
      ]
    },
    {
      "cell_type": "markdown",
      "metadata": {
        "id": "RvFfjxUeP81Q"
      },
      "source": []
    },
    {
      "cell_type": "markdown",
      "metadata": {
        "id": "v6pg8nv_qaCK"
      },
      "source": [
        "## Challenges"
      ]
    },
    {
      "cell_type": "markdown",
      "metadata": {
        "id": "VntYINywR7nv"
      },
      "source": [
        "### A. Maxabs 💦\n",
        "\n",
        "The `absolute` value is defined as a piecewise function, where\n",
        "$$\n",
        "|x| =\n",
        "\\begin{cases}\n",
        "    x & \\text{if}\\quad x \\ge 0\n",
        "    \\\\\n",
        "    -x & \\text{if}\\quad x \\le 0.\n",
        "\\end{cases}\n",
        "$$\n",
        "\n",
        "Create a function called `maxabs` takes two numbers and returns the one with the largest absolute value.\n",
        "\n",
        "$$\n",
        "\\texttt{maxabs}(x, y) = \\begin{cases}\n",
        "x &\\text{if}\\quad |x| \\ge |y|\n",
        "\\\\\n",
        "y &\\text{if}\\quad |x| \\le |y|.\n",
        "\\end{cases}\n",
        "$$\n",
        "\n",
        "Try this without using the built-in python `max` and `abs` functions."
      ]
    },
    {
      "cell_type": "code",
      "execution_count": 56,
      "metadata": {
        "id": "t42AbtBtSdga"
      },
      "outputs": [],
      "source": [
        "# your code here\n"
      ]
    },
    {
      "cell_type": "markdown",
      "metadata": {
        "id": "CVAaVM7iPLTc"
      },
      "source": [
        "### B. Leibniz formula 🥧\n",
        "\n",
        "Create a function that takes an integer argument $n$ and calculates the sum\n",
        "\n",
        "$$\n",
        "\\begin{align}\n",
        "  \\sum_{m=0}^{n} \\frac{(-1)^{m}}{2m+1}\n",
        "  &= 1 - \\frac{1}{3} + \\frac{1}{5} - \\frac{1}{7} + ... + \\frac{(-1)^n}{2n+1}.\n",
        "\\end{align}\n",
        "$$\n",
        "\n",
        "What is $4 \\sum\\limits_{m=1}^{\\infty}\n",
        "\\frac{(-1)^{m}}{2m+1}$ ? \\*\n",
        "\n",
        "---\n",
        "\\* A series (infinite sum) is just defined as $\\sum\\limits_{x=a}^{\\infty} s(x) = \\lim\\limits_{n\\to\\infty}\\sum\\limits_{x=a}^{n} s(x)$, which we can approximate with a large $n$ (if the series converges)."
      ]
    },
    {
      "cell_type": "code",
      "execution_count": 57,
      "metadata": {
        "id": "_ikQKwIadOgJ"
      },
      "outputs": [],
      "source": [
        "# your code here\n"
      ]
    },
    {
      "cell_type": "markdown",
      "metadata": {
        "id": "dnxEo8Tu0WGJ"
      },
      "source": [
        "### C. Area under a curve 📊\n",
        "\n",
        "Create a function called `integrate` that approximates the definite integral of a function $f(x)$ from $x=a$ to $x=b$,\n",
        "\n",
        "$$\n",
        "\\begin{align}\n",
        "\\int_a^b f(x)\\ dx\n",
        "=\n",
        "\\lim_{n\\to\\infty}\\sum_{m=0}^{n-1} f \\left(a + m \\frac{b-a}{n} \\right) \\frac{b-a}{n},\n",
        "\\end{align}\n",
        "$$\n",
        "\n",
        "with the summation\n",
        "\n",
        "$$\n",
        "\\texttt{integrate}(f, a, b, n)\n",
        "=\n",
        "\\sum_{m=0}^{n-1} f \\left(a + m \\frac{b-a}{n} \\right) \\frac{b-a}{n}.\n",
        "$$\n",
        "\n",
        "The function takes at least four arguments.\n",
        "* `f` : the function to differentiate,\n",
        "* `a, b` : the bounds of the integral,\n",
        "* `n` : the number of summands.\n",
        "\n",
        "Check the results with test functions. Try to optimize the function's results by adjusting the parameters."
      ]
    },
    {
      "cell_type": "code",
      "execution_count": 58,
      "metadata": {
        "id": "4z8LUC_S1q2k"
      },
      "outputs": [],
      "source": [
        "# your code here\n"
      ]
    },
    {
      "cell_type": "markdown",
      "metadata": {
        "id": "deQFgaxXWFA8"
      },
      "source": [
        "### D. Purely rational ➗\n",
        "\n",
        "Create a function called `fraction` that takes a number `x` and returns the numerator and denominator of `x` when represented as a fraction of integers.\n",
        "\n",
        "For example:\n",
        "```python\n",
        "fraction(0.5) -> (1, 2)\n",
        "fraction(-0.2) -> (-1, 5)\n",
        "fraction(3.14) -> (157, 50)\n",
        "fraction(0) -> (0, 1)\n",
        "```\n",
        "\n",
        "What is the fraction representation of $\\sqrt{2}$?"
      ]
    },
    {
      "cell_type": "code",
      "execution_count": 59,
      "metadata": {
        "id": "OfQHFKSRXsjQ"
      },
      "outputs": [],
      "source": [
        "# your code here\n"
      ]
    },
    {
      "cell_type": "markdown",
      "metadata": {
        "id": "tCi5JcTNMEgH"
      },
      "source": [
        "## Solutions\n",
        "Unhide cells to see solutions."
      ]
    },
    {
      "cell_type": "markdown",
      "metadata": {
        "id": "q94xpbfMA-jf"
      },
      "source": [
        "### Solution A."
      ]
    },
    {
      "cell_type": "code",
      "execution_count": 60,
      "metadata": {
        "colab": {
          "base_uri": "https://localhost:8080/"
        },
        "id": "4MLH0-BbAaCt",
        "outputId": "d78d0b16-002f-403c-9a71-86f29316cb9b"
      },
      "outputs": [
        {
          "output_type": "execute_result",
          "data": {
            "text/plain": [
              "-5"
            ]
          },
          "metadata": {},
          "execution_count": 60
        }
      ],
      "source": [
        "def myabs(x):\n",
        "    '''\n",
        "    Returns absolute value of x\n",
        "    '''\n",
        "    if x >= 0:\n",
        "        return x\n",
        "    else:\n",
        "        return -x\n",
        "\n",
        "def maxabs(x, y):\n",
        "    '''\n",
        "    Returns value with the maximal absolute value\n",
        "    '''\n",
        "    if myabs(x) > myabs(y):\n",
        "        return x\n",
        "    else:\n",
        "        return y\n",
        "\n",
        "maxabs(-5, 4)"
      ]
    },
    {
      "cell_type": "markdown",
      "metadata": {
        "id": "F6FBLUYUWn7I"
      },
      "source": [
        "### Solution B.\n"
      ]
    },
    {
      "cell_type": "code",
      "execution_count": 61,
      "metadata": {
        "colab": {
          "base_uri": "https://localhost:8080/"
        },
        "id": "Vyrigw1aVSD1",
        "outputId": "71ec3ead-b94a-46f1-999f-3c9184be9627"
      },
      "outputs": [
        {
          "output_type": "stream",
          "name": "stdout",
          "text": [
            "4 * leibniz(n=1e+06) =\t 3.1415936535887745\n",
            "π =\t\t\t 3.141592653589793\n"
          ]
        }
      ],
      "source": [
        "# your code here\n",
        "\n",
        "def leibniz(n):\n",
        "    \n",
        "    res = 0\n",
        "\n",
        "    for m in range(n+1):\n",
        "        res += (-1)**m / (2*m + 1)\n",
        "    \n",
        "    return res\n",
        "\n",
        "# calculate\n",
        "# https://en.wikipedia.org/wiki/Leibniz_formula_for_%CF%80\n",
        "\n",
        "n = 1_000_000\n",
        "\n",
        "print(f'4 * leibniz(n={n:.0e}) =\\t', 4 * leibniz(n))\n",
        "\n",
        "import math\n",
        "print('π =\\t\\t\\t', math.pi)"
      ]
    },
    {
      "cell_type": "markdown",
      "metadata": {
        "id": "5vI2EkE-Dt2K"
      },
      "source": [
        "### Solution C."
      ]
    },
    {
      "cell_type": "code",
      "execution_count": 62,
      "metadata": {
        "colab": {
          "base_uri": "https://localhost:8080/"
        },
        "id": "jjh70j11DsRN",
        "outputId": "11e764f3-471e-4006-e3f7-bac72b47a42c"
      },
      "outputs": [
        {
          "output_type": "execute_result",
          "data": {
            "text/plain": [
              "2.6667"
            ]
          },
          "metadata": {},
          "execution_count": 62
        }
      ],
      "source": [
        "def f(x):\n",
        "    return x**2\n",
        "\n",
        "# your code here\n",
        "\n",
        "def integrate(f, a, b, n=1e5, ndigits=4):\n",
        "\n",
        "    res = 0\n",
        "    \n",
        "    # width of rectangles\n",
        "    dx = (b-a) / n\n",
        "\n",
        "    # span of f(x) in each term\n",
        "    span = (b-a) / (n-1)\n",
        "\n",
        "    for m in range(int(n)):\n",
        "\n",
        "        # height of rectangle\n",
        "        h = f(a + m * span)\n",
        "\n",
        "        # add to result sum\n",
        "        res += h * dx\n",
        "    \n",
        "    # return rounded result\n",
        "    return round(res, ndigits)\n",
        "\n",
        "integrate(f, 0, 2)"
      ]
    },
    {
      "cell_type": "markdown",
      "metadata": {
        "id": "qPIvUBpJMJhO"
      },
      "source": [
        "### Solution D."
      ]
    },
    {
      "cell_type": "code",
      "execution_count": null,
      "metadata": {
        "id": "bUOZJlrfaVS5"
      },
      "outputs": [],
      "source": [
        "# your code here\n",
        "\n",
        "def fraction(x):\n",
        "    '''\n",
        "    Here we use a brute force method. For a more efficient algorithm, see\n",
        "    https://www.youtube.com/watch?v=7LKy3lrkTRA\n",
        "    '''\n",
        "    \n",
        "    # make x non-negative and save sign\n",
        "    sign = 1\n",
        "    if x < 0:\n",
        "        x, sign = -x, -1 \n",
        "\n",
        "    # starting values\n",
        "    n, m = 0, 1\n",
        "\n",
        "    # while fraction not equal to value\n",
        "    while x != n/m:\n",
        "        \n",
        "        if x > n/m:     # if x is greater\n",
        "            n += 1      # increase numerator\n",
        "        else:\n",
        "            m += 1      # increase denominator\n",
        "    \n",
        "    return sign*n, m\n",
        "\n",
        "# this is pretty slow...\n",
        "fraction(2**(1/2))"
      ]
    },
    {
      "cell_type": "markdown",
      "metadata": {
        "id": "Kic8yGVlcvBe"
      },
      "source": [
        "# 3. Data structures"
      ]
    },
    {
      "cell_type": "markdown",
      "metadata": {
        "id": "9NnL6-LsczXm"
      },
      "source": [
        "## 3.0. Lists and tuples"
      ]
    },
    {
      "cell_type": "code",
      "execution_count": null,
      "metadata": {
        "id": "0djB5hBmdGSs"
      },
      "outputs": [],
      "source": [
        "# lists\n",
        "\n",
        "x = [1, 2, 3]\n",
        "y = ['a', 'b', 'c']\n",
        "\n",
        "# append\n",
        "x.append(4)\n",
        "print(x)\n",
        "\n",
        "# remove\n",
        "x.remove(4)\n",
        "print(x)\n",
        "\n",
        "# pop\n",
        "x.append(4)\n",
        "a = x.pop(3)\n",
        "print(x, a)\n",
        "\n",
        "# concat\n",
        "print(x + y)\n",
        "\n",
        "# extend\n",
        "x.extend(y)\n",
        "print(x)\n",
        "\n",
        "# indexing\n",
        "x[3] = 'apple'\n",
        "i = x.index('apple')\n",
        "print(x[i])\n",
        "\n",
        "# slicing\n",
        "x, y = x[:3], x[3:]\n",
        "print(x, y)\n",
        "\n",
        "# sort\n",
        "x.sort(reverse=True)\n",
        "print(x)"
      ]
    },
    {
      "cell_type": "code",
      "execution_count": null,
      "metadata": {
        "id": "pazPYWgFmyfF"
      },
      "outputs": [],
      "source": [
        "# tuples\n",
        "\n",
        "z = (1, 2, 3)\n",
        "\n",
        "print(z[0])\n",
        "\n",
        "# immutable: cannot change tuple values\n",
        "# this code will create an error\n",
        "# z[0] = 1\n",
        "\n",
        "# but lists are mutable\n",
        "z = list(z)\n",
        "z[0] = 0\n",
        "print(z)"
      ]
    },
    {
      "cell_type": "markdown",
      "metadata": {
        "id": "PqBJmAEZc4zp"
      },
      "source": [
        "## 3.1. Sets and dictionaries"
      ]
    },
    {
      "cell_type": "code",
      "execution_count": null,
      "metadata": {
        "id": "OiznLAD6dFtF"
      },
      "outputs": [],
      "source": [
        "# sets\n",
        "\n",
        "# contain unique elements\n",
        "x = {1, 2, 2, 3, 3, 3}\n",
        "y = {2, 3, 4}\n",
        "print(x, y)\n",
        "\n",
        "# intersection\n",
        "print(x & y)\n",
        "\n",
        "# union\n",
        "print(x | y)\n",
        "\n",
        "# difference\n",
        "print(x - y)\n",
        "\n",
        "# symmetric difference\n",
        "print(x ^ y)"
      ]
    },
    {
      "cell_type": "code",
      "execution_count": null,
      "metadata": {
        "id": "BTIW1uNbm1TM"
      },
      "outputs": [],
      "source": [
        "# dictionaries\n",
        "\n",
        "# contain key : value pairs\n",
        "fruits = {'a' : 'apple', 'a' : 'apricot', 'b' : 'banana', 'c' : 'clementine'}\n",
        "\n",
        "# print keys and values\n",
        "print(fruits.keys())\n",
        "print(fruits.values())\n",
        "\n",
        "# iterating over dictionaries\n",
        "for x, y in fruits.items():\n",
        "    print(x, y)\n",
        "  \n",
        "# call value\n",
        "print(fruits['a'])\n",
        "\n",
        "# reassign value or add item\n",
        "fruits['d'] = 'dingleberry'\n",
        "print(fruits)\n",
        "\n",
        "# remove\n",
        "fruits.pop('d')\n",
        "print(fruits)"
      ]
    },
    {
      "cell_type": "markdown",
      "metadata": {
        "id": "VPrismFgc8sI"
      },
      "source": [
        "## 3.2. Linear algebra with numpy"
      ]
    },
    {
      "cell_type": "code",
      "execution_count": null,
      "metadata": {
        "id": "x0WSg5jAdFLJ"
      },
      "outputs": [],
      "source": [
        "import numpy as np"
      ]
    },
    {
      "cell_type": "code",
      "execution_count": null,
      "metadata": {
        "id": "Sf7ZOQ0mroVP"
      },
      "outputs": [],
      "source": [
        "# vectors\n",
        "\n",
        "a = np.array([1, 2, 3])\n",
        "b = np.array([4, 5, 6])\n",
        "\n",
        "print('\\na =', a)\n",
        "print('b =', a)\n",
        "\n",
        "# linear combinations\n",
        "print('\\n2 * a - b =')\n",
        "print(2 * a - b)\n",
        "\n",
        "# dot product\n",
        "print('\\na @ b =')\n",
        "print(a @ b)\n",
        "\n",
        "# broadcasting\n",
        "print('\\na * b =')\n",
        "print(a * b)\n",
        "\n",
        "print('\\na / b =')\n",
        "print(a / b)\n",
        "\n",
        "print('\\na**b =')\n",
        "print(a**b)"
      ]
    },
    {
      "cell_type": "code",
      "execution_count": null,
      "metadata": {
        "id": "tdpZnkSVsQ7c"
      },
      "outputs": [],
      "source": [
        "# matrices\n",
        "\n",
        "A = np.array(\n",
        "    [[1, 2],\n",
        "     [3, 4]])\n",
        "\n",
        "B = np.array(\n",
        "    [[1, 2, 3],\n",
        "     [4, 5, 6],\n",
        "     ])\n",
        "\n",
        "print('\\nA =')\n",
        "print(A)\n",
        "\n",
        "print('\\nB =')\n",
        "print(B)\n",
        "\n",
        "# dimensions\n",
        "print('\\nA.shape, B.shape = ')\n",
        "print(A.shape, B.shape)\n",
        "\n",
        "# transpose\n",
        "print('\\nB.T =')\n",
        "print(B.T)\n",
        "\n",
        "# dot product\n",
        "print('\\nA @ B = ')\n",
        "print(A @ B)\n",
        "\n",
        "# broadcast\n",
        "print('\\nA * A =')\n",
        "print(A * A)\n",
        "\n",
        "print('\\nA / A =')\n",
        "print(A / A)\n",
        "\n",
        "# determinant\n",
        "print('\\ndet(A)')\n",
        "print(np.linalg.det(A))\n",
        "\n",
        "# inverse\n",
        "A_inv = np.linalg.inv(A)\n",
        "\n",
        "print('\\nA_inv =')\n",
        "print(A_inv)\n",
        "\n",
        "print('\\nA @ A_inv =') \n",
        "I = np.round(A_inv @ A, 5)\n",
        "print(I)\n",
        "\n",
        "# eigen-decompositon\n",
        "eigvals, eigvecs = np.linalg.eig(A)\n",
        "\n",
        "for i, (eigval, eigvec) in enumerate(zip(eigvals, eigvecs.T)):\n",
        "\n",
        "    print(f'\\nλ{i}, v{i} =')\n",
        "    print(eigval, eigvec)\n",
        "\n",
        "    print(f'\\nA @ v{i} =')\n",
        "    print(A @ eigvec)\n",
        "\n",
        "    print(f'\\nλ{i} * v{i} =')\n",
        "    print(eigval * eigvec)"
      ]
    },
    {
      "cell_type": "code",
      "execution_count": null,
      "metadata": {
        "id": "onsRwNb2uDUM"
      },
      "outputs": [],
      "source": [
        "# other numpy functions\n",
        "\n",
        "# linear space\n",
        "print(f'\\nlinear space:')\n",
        "a = np.linspace(0, 1, 10)\n",
        "print(a)\n",
        "\n",
        "# identity matrix\n",
        "n = 3\n",
        "I = np.eye(n)\n",
        "print(f'\\nI_{n} =')\n",
        "print(I)\n",
        "\n",
        "# random distributions\n",
        "normal = np.random.normal(0, 1, 5) # random vector\n",
        "print(f'\\nN =')\n",
        "print(normal)\n",
        "\n",
        "# maximum and max argument\n",
        "vmax = np.max(normal)       # max value\n",
        "imax = np.argmax(normal)    # maximizing index\n",
        "print(f'\\nmax(N), argmax(N) =')\n",
        "print((vmax, imax))"
      ]
    },
    {
      "cell_type": "markdown",
      "metadata": {
        "id": "yYURqvM3z5tA"
      },
      "source": [
        "## Challenges"
      ]
    },
    {
      "cell_type": "markdown",
      "metadata": {
        "id": "cKUTHd82PQ3H"
      },
      "source": [
        "### A. Dot dot dot...\n",
        "\n",
        "Create a function called `vector_dot` that takes two `lists` of numbers $a = [a_1, a_2, ..., a_n],\\ b = [b_1, b_2, ..., b_n]$ and calculates the dot product\n",
        "\n",
        "$$\n",
        "a \\cdot b = \\sum_{i=1}^n a_i b_i = a_1 b_1 + a_2 b_2 + ... + a_n b_n.\n",
        "$$\n",
        "\n",
        "Verify your solution with numpy."
      ]
    },
    {
      "cell_type": "code",
      "execution_count": null,
      "metadata": {
        "id": "foj8NgC_zxuk"
      },
      "outputs": [],
      "source": [
        "# test case\n",
        "a = [1, 2, 3]\n",
        "b = [4, 5, 6]\n",
        "\n",
        "print('numpy.dot(a, b) =', np.dot(a, b))\n",
        "\n",
        "# your code here\n",
        "\n"
      ]
    },
    {
      "cell_type": "markdown",
      "metadata": {
        "id": "obm6MsaJLup9"
      },
      "source": [
        "### B. -- --- .-. ... . / -- -.-- ... - . .-. -.-- 🛎️\n",
        "\n",
        "Translate `morse_msg` from morse code with the dictionary `alphamorse`."
      ]
    },
    {
      "cell_type": "code",
      "execution_count": null,
      "metadata": {
        "id": "gcGmt_USOP2v"
      },
      "outputs": [],
      "source": [
        "morse_msg = '''.. / -- . - / .- / ... . . .-. --..-- / \n",
        " .--. .- ... ... .. -. --. / - .... . / .... ..- . ... / .- -. -.. / \\\n",
        " --- -... .--- . -.-. - ... / --- ..-. / - .... . / .-- --- .-. .-.. -.. --..-- / \n",
        " - .... . / ..-. .. . .-.. -.. ... / --- ..-. / .- .-. - / .- -. -.. / \\\n",
        " .-.. . .- .-. -. .. -. --. --..-- / .--. .-.. . .- ... ..- .-. . --..-- / \\\n",
        " ... . -. ... . --..-- / \n",
        " - --- / --. .-.. . .- -. / . .. -.. --- .-.. --- -. ... .-.-.-'''\n",
        "\n",
        "morse_alpha = {\n",
        "    '/': ' ', '.-': 'A', '-...': 'B', '-.-.': 'C', '-..': 'D', '.': 'E',\n",
        "    '..-.': 'F', '--.': 'G', '....': 'H', '..': 'I', '.---': 'J', '-.-': 'K',\n",
        "    '.-..': 'L', '--': 'M', '-.': 'N', '---': 'O', '.--.': 'P', '--.-': 'Q',\n",
        "    '.-.': 'R', '...': 'S', '-': 'T', '..-': 'U', '...-': 'V', '.--': 'W',\n",
        "    '-..-': 'X', '-.--': 'Y', '--..': 'Z', '.--.-': 'À', '.-.-': 'Ä', '---.': 'Ó',\n",
        "    '-----': '%', '.----': '1', '..---': '2', '...--': '3', '....-': '4',\n",
        "    '.....': '5', '-....': '6', '--...': '7', '---..': '8', '----.': '9',\n",
        "    '.-...': '&', '.----.': \"'\", '.--.-.': '@', '-.--.-': ')', '-.--.': '(',\n",
        "    '---...': ':', '--..--': ',', '-...-': '=', '-.-.--': '!', '.-.-.-': '.',\n",
        "    '-....-': '-', '.-.-.': '+', '.-..-.': '\"', '..--..': '?', '-..-.': '/',\n",
        "    '-.-..': 'Ć', '..-..': 'Đ', '..--.': 'Ð', '.-..-': 'È', '--.-.': 'Ĝ', '.---.':\n",
        "    'Ĵ', '--.--': 'Ń', '...-...': 'Ś', '...-.': 'Ŝ', '.--..': 'Þ', '..--': 'Ü',\n",
        "    '--..-.': 'Ź', '--..-': 'Ż'\n",
        "    }\n",
        "\n",
        "\n",
        "# your code here\n"
      ]
    },
    {
      "cell_type": "markdown",
      "metadata": {
        "id": "qywITZZszJs-"
      },
      "source": [
        "### C. There is no spoon 🥄\n",
        "\n",
        "We can represent a matrix as a **list of lists**, where the *nested* lists are the row vectors of the matrix. For example,\n",
        "\n",
        "$$\n",
        "A_{m \\times n}\n",
        "= \\begin{bmatrix}\n",
        "  [a_{1 1}, a_{1 2}, ..., a_{1 n}],\n",
        "  \\\\\n",
        "  [a_{2 1}, a_{2 2}, ..., a_{2 n}],\n",
        "  \\\\\n",
        "  \\vdots\n",
        "  \\\\\n",
        "  [a_{m 1}, a_{m 2}, ..., a_{m n}]\n",
        "\\end{bmatrix},\n",
        "\\quad\n",
        "B_{n \\times r}\n",
        "= \\begin{bmatrix}\n",
        "  [b_{1 1}, b_{1 2}, ..., b_{1 r}],\n",
        "  \\\\\n",
        "  [b_{2 1}, b_{2 2}, ..., b_{2 r}],\n",
        "  \\\\\n",
        "  \\vdots\n",
        "  \\\\\n",
        "  [b_{n 1}, b_{n 2}, ..., b_{n r}]\n",
        "\\end{bmatrix}.\n",
        "$$\n",
        "\n",
        "Create a function called `mat_dot` that takes two such matrices, and returns the dot product\n",
        "$$\n",
        "C_{m \\times r} = A_{m \\times n} \\cdot B_{n \\times r}\n",
        "= \\begin{bmatrix}\n",
        "  [c_{1 1}, c_{1 2}, ..., c_{1 r}],\n",
        "  \\\\\n",
        "  [c_{2 1}, c_{2 2}, ..., c_{2 r}],\n",
        "  \\\\\n",
        "  \\vdots\n",
        "  \\\\\n",
        "  [c_{m 1}, c_{m 2}, ..., c_{m r}]\n",
        "\\end{bmatrix},\n",
        "\\quad\n",
        "\\text{where}\n",
        "\\quad\n",
        "c_{ij} = \\sum_{k=1}^{n} a_{ik} b_{kj}\n",
        "$$\n",
        "\n",
        "Verify your solution with numpy or sympy."
      ]
    },
    {
      "cell_type": "code",
      "execution_count": null,
      "metadata": {
        "id": "tCTIBjwPd3q9"
      },
      "outputs": [],
      "source": [
        "# test cases\n",
        "A = [[1, 2],\n",
        "     [3, 4]]\n",
        "\n",
        "B = [[1, 2, 3],\n",
        "     [4, 5, 6],\n",
        "     ]\n",
        "\n",
        "print('numpy.dot(a, b): \\n', np.dot(A, B))\n",
        "\n",
        "# your code here\n",
        "\n"
      ]
    },
    {
      "cell_type": "markdown",
      "metadata": {
        "id": "KZ2hV1bO_6By"
      },
      "source": [
        "### D. Prime factors ⚛️\n",
        "\n",
        "A prime number $p \\ge 2$ is a number which is divisible by only $p$ itself and 1, meaning $\\frac{p}{n}$ for all other $n$ is not a whole number.\n",
        "\n",
        "Create a function which takes a positive integer $n$ and finds all prime numbers $p \\le n$.\n",
        "\n",
        "Create another function called `factor()` which takes a positive integer $n$ and returns a list of it's prime factors.\n",
        "\n",
        "For example,\n",
        "```python\n",
        "factor(2) == [2]\n",
        "factor(4) == [2, 2]\n",
        "factor(420) == [2, 2, 3, 5, 7]\n",
        "```"
      ]
    },
    {
      "cell_type": "code",
      "execution_count": null,
      "metadata": {
        "id": "ZMGkbqanRGxq"
      },
      "outputs": [],
      "source": [
        "# your code here\n"
      ]
    },
    {
      "cell_type": "markdown",
      "metadata": {
        "id": "TCplsanjMrTa"
      },
      "source": [
        "## Solutions\n",
        "Unhide cells to see solutions."
      ]
    },
    {
      "cell_type": "markdown",
      "metadata": {
        "id": "lQ7jVOg45jTs"
      },
      "source": [
        "### Solution A.\n"
      ]
    },
    {
      "cell_type": "code",
      "execution_count": null,
      "metadata": {
        "id": "Mrs5D3kceZqs"
      },
      "outputs": [],
      "source": [
        "# test case\n",
        "a = [1, 2, 3]\n",
        "b = [4, 5, 6]\n",
        "\n",
        "print('numpy.dot(a, b) =', np.dot(a, b))\n",
        "\n",
        "# your code here\n",
        "\n",
        "def vector_dot(a, b):\n",
        "    res = 0\n",
        "    for x, y in zip(a, b):\n",
        "        res += x*y\n",
        "\n",
        "    return res\n",
        "\n",
        "print('\\nvector_dot(a, b) =', vector_dot(a, b))"
      ]
    },
    {
      "cell_type": "markdown",
      "metadata": {
        "id": "UDO1hTAMPMUO"
      },
      "source": [
        "### Solution B."
      ]
    },
    {
      "cell_type": "code",
      "execution_count": null,
      "metadata": {
        "id": "yma1Y7qSPKpI"
      },
      "outputs": [],
      "source": [
        "morse_msg = '''.. / -- . - / .- / ... . . .-. --..-- / \n",
        " .--. .- ... ... .. -. --. / - .... . / .... ..- . ... / .- -. -.. / \\\n",
        " --- -... .--- . -.-. - ... / --- ..-. / - .... . / .-- --- .-. .-.. -.. --..-- / \n",
        " - .... . / ..-. .. . .-.. -.. ... / --- ..-. / .- .-. - / .- -. -.. / \\\n",
        " .-.. . .- .-. -. .. -. --. --..-- / .--. .-.. . .- ... ..- .-. . --..-- / \\\n",
        " ... . -. ... . --..-- / \n",
        " - --- / --. .-.. . .- -. / . .. -.. --- .-.. --- -. ... .-.-.-'''\n",
        "\n",
        "morse_alpha = {\n",
        "    '/': ' ', '.-': 'A', '-...': 'B', '-.-.': 'C', '-..': 'D', '.': 'E',\n",
        "    '..-.': 'F', '--.': 'G', '....': 'H', '..': 'I', '.---': 'J', '-.-': 'K',\n",
        "    '.-..': 'L', '--': 'M', '-.': 'N', '---': 'O', '.--.': 'P', '--.-': 'Q',\n",
        "    '.-.': 'R', '...': 'S', '-': 'T', '..-': 'U', '...-': 'V', '.--': 'W',\n",
        "    '-..-': 'X', '-.--': 'Y', '--..': 'Z', '.--.-': 'À', '.-.-': 'Ä', '---.': 'Ó',\n",
        "    '-----': '%', '.----': '1', '..---': '2', '...--': '3', '....-': '4',\n",
        "    '.....': '5', '-....': '6', '--...': '7', '---..': '8', '----.': '9',\n",
        "    '.-...': '&', '.----.': \"'\", '.--.-.': '@', '-.--.-': ')', '-.--.': '(',\n",
        "    '---...': ':', '--..--': ',', '-...-': '=', '-.-.--': '!', '.-.-.-': '.',\n",
        "    '-....-': '-', '.-.-.': '+', '.-..-.': '\"', '..--..': '?', '-..-.': '/',\n",
        "    '-.-..': 'Ć', '..-..': 'Đ', '..--.': 'Ð', '.-..-': 'È', '--.-.': 'Ĝ', '.---.':\n",
        "    'Ĵ', '--.--': 'Ń', '...-...': 'Ś', '...-.': 'Ŝ', '.--..': 'Þ', '..--': 'Ü',\n",
        "    '--..-.': 'Ź', '--..-': 'Ż'\n",
        "    }\n",
        "\n",
        "# your code here\n",
        "\n",
        "# translate message\n",
        "res = []\n",
        "\n",
        "for m in morse_msg.split(' '):\n",
        "\n",
        "    if m in morse_alpha:\n",
        "        res.append(morse_alpha[m])\n",
        "        \n",
        "    else:\n",
        "        res.append(m)\n",
        "\n",
        "msg = ''.join(res)\n",
        "\n",
        "print(msg)\n"
      ]
    },
    {
      "cell_type": "markdown",
      "metadata": {
        "id": "pqA3P6O56j-D"
      },
      "source": [
        "### Solution C.\n"
      ]
    },
    {
      "cell_type": "code",
      "execution_count": null,
      "metadata": {
        "id": "MdoF2Ubx6lUl"
      },
      "outputs": [],
      "source": [
        "# test case\n",
        "A = [[1, 2],\n",
        "     [3, 4]]\n",
        "\n",
        "B = [[1, 2, 3],\n",
        "     [4, 5, 6],\n",
        "     ]\n",
        "\n",
        "print('numpy.dot(A, B) = \\n', np.dot(A, B))\n",
        "\n",
        "# your code here\n",
        "\n",
        "def mat_dot(A, B):\n",
        "  \n",
        "    # dimensions\n",
        "    m, n = len(A), len(A[0])\n",
        "    nb, r = len(B), len(B[0])\n",
        "    \n",
        "    # check the A cols and B rows are the same length\n",
        "    assert n == nb, f\"Matrices dimensions incorrect ({m}x{n}) and ({nb}x{r})\"\n",
        "\n",
        "    # create matrix of zeroes\n",
        "    C = [[0 for _ in range(r)] for _ in range(m)]\n",
        "\n",
        "    for i in range(m):\n",
        "        for j in range(r):\n",
        "            for k in range(n):\n",
        "                C[i][j] += A[i][k] * B[k][j]\n",
        "\n",
        "    return C\n",
        "\n",
        "print('\\nmat_dot(A, B) = \\n', mat_dot(A, B))"
      ]
    },
    {
      "cell_type": "markdown",
      "metadata": {
        "id": "RJurbo4mRmnl"
      },
      "source": [
        "### Solution D."
      ]
    },
    {
      "cell_type": "code",
      "execution_count": null,
      "metadata": {
        "id": "iDCOO9z2ByN-"
      },
      "outputs": [],
      "source": [
        "# your code here\n",
        "\n",
        "def erastos(n):\n",
        "    '''\n",
        "    Though there are easier ways to find primes, but the\n",
        "    Sieve of Erastosthenes is a particularly beautiful algorithm\n",
        "    https://en.wikipedia.org/wiki/Sieve_of_Eratosthenes\n",
        "    '''\n",
        "\n",
        "    primes = set()\n",
        "    nonprimes = set()\n",
        "\n",
        "    for x in range(2, n+1):\n",
        "\n",
        "        # add to primes if number not in non-primes\n",
        "        if x not in nonprimes:\n",
        "            primes.add(x)\n",
        "\n",
        "        # add all multiples of x to non-primes\n",
        "        for m in range(x, n+1, x):\n",
        "            nonprimes.add(m)\n",
        "\n",
        "    return sorted(primes)\n",
        "\n",
        "def factor(n):\n",
        "\n",
        "    primes = erastos(n)\n",
        "    res = []\n",
        "\n",
        "    i = 0\n",
        "    while n > 1:\n",
        "        p = primes[i]\n",
        "\n",
        "        while n % p == 0:\n",
        "            res.append(p)\n",
        "            n = (n / p)\n",
        "\n",
        "    return res\n",
        "\n",
        "factor(8)"
      ]
    },
    {
      "cell_type": "markdown",
      "metadata": {
        "id": "aYfICsaRdVqJ"
      },
      "source": [
        "# 4. Data and analytics"
      ]
    },
    {
      "cell_type": "markdown",
      "metadata": {
        "id": "hrLIYB-XddFG"
      },
      "source": [
        "## 4.0. Pandas"
      ]
    },
    {
      "cell_type": "code",
      "execution_count": null,
      "metadata": {
        "id": "pA46esnmdATo"
      },
      "outputs": [],
      "source": [
        "import pandas as pd\n",
        "\n",
        "import matplotlib.pyplot as plt\n",
        "%matplotlib inline"
      ]
    },
    {
      "cell_type": "markdown",
      "metadata": {
        "id": "tDYUH0-W8HCQ"
      },
      "source": [
        "Consumer Price Index <br>\n",
        "https://fred.stlouisfed.org/series/CORESTICKM159SFRBATL"
      ]
    },
    {
      "cell_type": "code",
      "execution_count": null,
      "metadata": {
        "id": "rz4rUfrKwUn1"
      },
      "outputs": [],
      "source": [
        "# Consumer Price Index\n",
        "\n",
        "# https://fred.stlouisfed.org/series/CORESTICKM159SFRBATL\n",
        "cpi_url = 'https://fred.stlouisfed.org/graph/fredgraph.csv?&id=CORESTICKM159SFRBATL'\n",
        "\n",
        "cpi = pd.read_csv(cpi_url)\n",
        "\n",
        "# change name\n",
        "cpi.columns = ['date', 'inflation']\n",
        "\n",
        "# convert to datetime\n",
        "cpi['date'] = pd.to_datetime(cpi['date'])\n",
        "\n",
        "# set date as index\n",
        "cpi = cpi.set_index('date')\n",
        "\n",
        "cpi"
      ]
    },
    {
      "cell_type": "markdown",
      "metadata": {
        "id": "OeV4zq6d8Dvj"
      },
      "source": [
        "Global energy price index <br>\n",
        "https://fred.stlouisfed.org/series/PNRGINDEXM"
      ]
    },
    {
      "cell_type": "code",
      "execution_count": null,
      "metadata": {
        "id": "FP453PXAyh7N"
      },
      "outputs": [],
      "source": [
        "# https://fred.stlouisfed.org/series/PNRGINDEXM\n",
        "energy_url = 'https://fred.stlouisfed.org/graph/fredgraph.csv?&id=PNRGINDEXM'\n",
        "\n",
        "energy = pd.read_csv(energy_url)\n",
        "\n",
        "# Change column name\n",
        "energy.columns = ['date', 'energy']\n",
        "\n",
        "# convert to datetime\n",
        "energy['date'] = pd.to_datetime(energy['date'])\n",
        "\n",
        "# set date as index\n",
        "energy = energy.set_index('date')\n",
        "\n",
        "# normalize price\n",
        "energy['energy'] = energy['energy'] / 100 - 1\n",
        "\n",
        "energy"
      ]
    },
    {
      "cell_type": "code",
      "execution_count": null,
      "metadata": {
        "id": "yS-SudxK55Bc"
      },
      "outputs": [],
      "source": [
        "# merge dataframes\n",
        "df = cpi.merge(energy, left_index=True, right_index=True)\n",
        "\n",
        "# keep last 10 years\n",
        "years = 10\n",
        "df = df.tail(12 * years)\n",
        "df.tail()"
      ]
    },
    {
      "cell_type": "markdown",
      "metadata": {
        "id": "aKpacchjABn-"
      },
      "source": [
        "## 4.1. Plotting"
      ]
    },
    {
      "cell_type": "code",
      "execution_count": null,
      "metadata": {
        "id": "tn8WqPXdzTbA"
      },
      "outputs": [],
      "source": [
        "plt.figure(figsize=(12, 6))\n",
        "\n",
        "plt.plot(df['inflation'], lw=3)\n",
        "plt.plot(df['energy'], lw=3)\n",
        "\n",
        "plt.legend(['Inflation','' 'Energy Price'])\n",
        "\n",
        "plt.title('Inflation and Energy Prices', fontsize=20)\n",
        "\n",
        "plt.grid()\n",
        "plt.show()"
      ]
    },
    {
      "cell_type": "code",
      "execution_count": null,
      "metadata": {
        "id": "n1eLktp6DjzS"
      },
      "outputs": [],
      "source": [
        "plt.figure(figsize=(12, 8))\n",
        "\n",
        "plt.hist(df['inflation'], bins=10)\n",
        "\n",
        "plt.grid()\n",
        "\n",
        "plt.title(f'Inflation rates in past {years} years', fontsize=20)\n",
        "plt.ylabel('Periods', fontsize=16)\n",
        "plt.xlabel('Percentage change in CPI (annual)', fontsize=16)\n",
        "\n",
        "mean = df['inflation'].mean()\n",
        "meanline = plt.axvline(mean, color='r')\n",
        "\n",
        "median = df['inflation'].median()\n",
        "medline = plt.axvline(median, color='g', linestyle='--')\n",
        "\n",
        "plt.legend([meanline, medline],\n",
        "           [f'mean: {mean:.2f}', f'median: {median:.2f}'],\n",
        "           fontsize=12\n",
        "           )\n",
        "\n",
        "plt.show()"
      ]
    },
    {
      "cell_type": "markdown",
      "metadata": {
        "id": "jfmSWVYrdcxD"
      },
      "source": [
        "## 4.2. Linear regression"
      ]
    },
    {
      "cell_type": "code",
      "execution_count": null,
      "metadata": {
        "id": "phOcz9Yt3woa"
      },
      "outputs": [],
      "source": [
        "import statsmodels.formula.api as sm"
      ]
    },
    {
      "cell_type": "code",
      "execution_count": null,
      "metadata": {
        "id": "ILkSV4Ee7WQs"
      },
      "outputs": [],
      "source": [
        "model = sm.ols('inflation ~ energy', data=df)\n",
        "\n",
        "res = model.fit()\n",
        "\n",
        "print(res.summary())"
      ]
    },
    {
      "cell_type": "code",
      "execution_count": null,
      "metadata": {
        "id": "gSNbQFgL9tnk"
      },
      "outputs": [],
      "source": [
        "res.params"
      ]
    },
    {
      "cell_type": "code",
      "execution_count": null,
      "metadata": {
        "id": "BLdJihUDD3q-"
      },
      "outputs": [],
      "source": [
        "# analytical solution for simple OLS\n",
        "corr_xy = df.corr()['inflation']['energy']\n",
        "std_y = df.std()['inflation']\n",
        "std_x = df.std()['energy']\n",
        "\n",
        "beta = corr_xy * std_y / std_x\n",
        "\n",
        "print(beta)"
      ]
    },
    {
      "cell_type": "markdown",
      "metadata": {
        "id": "q2UTh17zLseL"
      },
      "source": [
        "## 4.3. Predictive modeling\n",
        "\n",
        "[Neural Network tutorial](https://colab.research.google.com/github/tensorflow/docs/blob/master/site/en/tutorials/quickstart/beginner.ipynb)"
      ]
    },
    {
      "cell_type": "code",
      "execution_count": null,
      "metadata": {
        "id": "vZ1uPzT7Lunh"
      },
      "outputs": [],
      "source": [
        "import numpy as np\n",
        "\n",
        "import tensorflow as tf\n",
        "\n",
        "# load data\n",
        "(x_train, y_train), (x_test, y_test) = tf.keras.datasets.mnist.load_data()\n",
        "\n",
        "x_train, x_test = x_train / 255.0, x_test / 255.0"
      ]
    },
    {
      "cell_type": "code",
      "execution_count": null,
      "metadata": {
        "id": "Dj4_qfLJMi_O"
      },
      "outputs": [],
      "source": [
        "# show data\n",
        "\n",
        "rows, cols = 3, 3\n",
        "fig, axes = plt.subplots(rows, cols, figsize=(3*rows, 3*cols))\n",
        "\n",
        "for i, ax in enumerate(axes.flatten()):\n",
        "    ax.imshow(x_train[i], cmap='gist_gray')\n",
        "    ax.set_title(y_train[i])\n",
        "\n",
        "plt.show()"
      ]
    },
    {
      "cell_type": "code",
      "execution_count": null,
      "metadata": {
        "id": "GY443OwsPYI2"
      },
      "outputs": [],
      "source": [
        "# specify model\n",
        "model = tf.keras.models.Sequential([\n",
        "    tf.keras.layers.Flatten(input_shape=(28, 28)),\n",
        "    tf.keras.layers.Dense(128, activation='relu'),\n",
        "    tf.keras.layers.Dropout(0.2),\n",
        "    tf.keras.layers.Dense(10)\n",
        "])\n",
        "\n",
        "# loss function\n",
        "loss_fn = tf.keras.losses.SparseCategoricalCrossentropy(from_logits=True)"
      ]
    },
    {
      "cell_type": "code",
      "execution_count": null,
      "metadata": {
        "id": "wG7dOJYiRIFD"
      },
      "outputs": [],
      "source": [
        "# compile and train model\n",
        "model.compile(optimizer='adam',\n",
        "              loss=loss_fn,\n",
        "              metrics=['accuracy'])\n",
        "\n",
        "model.fit(x_train, y_train, epochs=5)"
      ]
    },
    {
      "cell_type": "code",
      "execution_count": null,
      "metadata": {
        "id": "YOTbpOS3RigR"
      },
      "outputs": [],
      "source": [
        "loss, accuracy = model.evaluate(x_test,  y_test, verbose=2)\n",
        "\n",
        "print(loss, accuracy)"
      ]
    },
    {
      "cell_type": "code",
      "execution_count": null,
      "metadata": {
        "id": "Iyh4HTYZXuFV"
      },
      "outputs": [],
      "source": [
        "from PIL import Image\n",
        "import os\n",
        "\n",
        "img_file = \"handwritten.png\"\n",
        "\n",
        "if os.path.exists(img_file):\n",
        "  \n",
        "    # read image\n",
        "    image = Image.open(img_file)\n",
        "\n",
        "    # convert to monochrome\n",
        "    image = image.convert('L')\n",
        "\n",
        "    # resize\n",
        "    image = image.resize((28, 28))\n",
        "\n",
        "    image = np.array(image)\n",
        "\n",
        "    # check dimensions\n",
        "    print(image.shape)\n",
        "\n",
        "    # show image\n",
        "    image = abs(1 - (image / 255))\n",
        "\n",
        "    plt.imshow(image, cmap='gist_gray')\n",
        "    plt.show()\n",
        "\n",
        "\n",
        "    # predict\n",
        "    x = np.array([image])\n",
        "    np.argmax(model(x))"
      ]
    },
    {
      "cell_type": "code",
      "execution_count": null,
      "metadata": {
        "id": "uf6zxMZxO4rx"
      },
      "outputs": [],
      "source": [
        "# model prediction\n",
        "predictions = model(x_train[:1]).numpy()\n",
        "print(predictions)\n",
        "\n",
        "# loss function\n",
        "loss = loss_fn(y_train[:1], predictions).numpy()\n",
        "print(loss)\n",
        "\n",
        "target = np.array([0])\n",
        "pred = np.array([[0.01, 10]])\n",
        "\n",
        "loss_fn(target, pred).numpy()"
      ]
    },
    {
      "cell_type": "markdown",
      "metadata": {
        "id": "oHeyhjamYkD5"
      },
      "source": [
        "## Challenges"
      ]
    },
    {
      "cell_type": "markdown",
      "metadata": {
        "id": "O9Ix8pkl_3pA"
      },
      "source": [
        "### A. Let them eat 🍰\n",
        "\n",
        "Plot **food prices** with inflation and energy prices.\n",
        "\n",
        "Run the regression ```inflation ~ energy + food```.\n",
        "\n",
        "Global price of Food index<br>\n",
        "https://fred.stlouisfed.org/series/PFOODINDEXM"
      ]
    },
    {
      "cell_type": "code",
      "execution_count": null,
      "metadata": {
        "id": "lVfo83pOHuab"
      },
      "outputs": [],
      "source": [
        "# https://fred.stlouisfed.org/series/PFOODINDEXM\n",
        "food_url = 'https://fred.stlouisfed.org/graph/fredgraph.csv?id=PFOODINDEXM'\n",
        "\n",
        "# your code here\n"
      ]
    },
    {
      "cell_type": "markdown",
      "metadata": {
        "id": "V_EEbXcWLwLI"
      },
      "source": [
        "### B. Ordinary least squares ⏹️\n",
        "\n",
        "Using `numpy`, solve the multiple regression [OLS](https://en.wikipedia.org/wiki/Ordinary_least_squares#Matrix/vector_formulation) estimates that minimizes the loss function with respect to $\\beta$ given parameters $y$ and $X$,\n",
        "\n",
        "\\begin{align}\n",
        "    \\hat \\beta\n",
        "    = \\text{arg}\\min_{\\beta} \\mathcal L (\\beta)\n",
        "    &= ||y - X \\beta||^2\n",
        "\\end{align}\n",
        "where\n",
        "* $y \\in \\mathbb{R}^{m \\times 1}$ is the independent variable vector,\n",
        "* $X \\in \\mathbb{R}^{m \\times n}$ is the matrix of $n$ observations of $m$ depedent variables (usually we set $X_{i1} = 1$ for all $i \\in \\{1, 2, ..., n\\}$ to allow for a non-zero intercept),\n",
        "* $\\beta \\in \\mathbb{R}^{n \\times 1}$ is a vector of coefficients, and\n",
        "* $\\varepsilon \\in \\mathbb{R}^{m \\times 1}$ is a vector of error terms, such that\n",
        "\n",
        "\\begin{align}\n",
        "  y &= X \\beta + \\varepsilon.\n",
        "\\end{align}\n",
        "\n",
        "[Appendix II](#scrollTo=0XpeuzwtH6wv) shows the derivation of the **analytical solution**, which is\n",
        "\\begin{align}\n",
        "    \\hat \\beta &= (X^T X)^{-1} X^T y\n",
        "\\end{align}\n",
        "if $X^T X$ is invertible.\n",
        "\n",
        "A numerical solution using **gradient descent** is also explained in the appendix.\n",
        "\n",
        "Using either solution, recreate the OLS estimates on data from challenge A and compare the results from using `statsmodels`."
      ]
    },
    {
      "cell_type": "code",
      "execution_count": null,
      "metadata": {
        "id": "XlA3mYJ1Nx4c"
      },
      "outputs": [],
      "source": [
        "# your code here\n"
      ]
    },
    {
      "cell_type": "markdown",
      "metadata": {
        "id": "GkSx8E0RW5V4"
      },
      "source": [
        "### C. Pandemic pandemonium 😷\n",
        "\n",
        "Simulate the discrete version of the [SIRD epidemiology model.](https://en.wikipedia.org/wiki/Compartmental_models_in_epidemiology#The_SIRD_model)\n",
        "At period $t$, let\n",
        "\n",
        "* $S_t$ be the healthy (**s**usceptible) population with initial value $S_0 = 0.99$,\n",
        "* $I_t$ be the **i**nfected population with initial value $I_0 = 0.01$,\n",
        "* $R_t$ be the **r**ecovered population with initial value $R_0 = 0$,\n",
        "* $D_t$ be the **d**eceased population with initial value $D_0 = 0$.\n",
        "\n",
        "Suppose the infection rate is $\\beta I_t S_t$, the recovery rate is $\\gamma$, and the mortality rate is $\\mu$.\n",
        "\n",
        "Then the discrete-time dynamics of the model are\n",
        "\\begin{align}\n",
        "  S_{t+1} &= (1 - \\beta I_t S_t) S_t,\n",
        "  \\\\\n",
        "  I_{t+1} &= (1 - \\gamma - \\mu) I_t + \\beta I_t S_t^2,\n",
        "  \\\\\n",
        "  R_{t+1} &= R_t + \\gamma I_t,\n",
        "  \\\\\n",
        "  D_{t+1} &= D_t + \\mu I_t.\n",
        "\\end{align}\n",
        "\n",
        "Let $\\beta = 0.15$, $\\gamma = 0.05$, and $\\mu = 0.01$. What are the populations after **365 periods**? Simulate and plot the dynamics of the population.\n",
        "\n",
        "How does changing the parameters affect the outcome?\n"
      ]
    },
    {
      "cell_type": "code",
      "execution_count": null,
      "metadata": {
        "id": "rw5dsMtEAW0N"
      },
      "outputs": [],
      "source": [
        "# your code here\n"
      ]
    },
    {
      "cell_type": "markdown",
      "metadata": {
        "id": "csjhvdummp66"
      },
      "source": [
        "### D. A macro model 📈\n",
        "\n",
        "Solve the following [real business-cycle](https://en.wikipedia.org/wiki/Real_business-cycle_theory) model.\n",
        "\n",
        "The economy's representative agent has CRRA utility and Cobb-Douglas production,\n",
        "\\begin{align}\n",
        "    u(C_t)\n",
        "    = \\frac{C_t^{1-\\gamma} - 1}{1-\\gamma},\n",
        "    \\quad\n",
        "    f(K_t)\n",
        "    = A K_t^\\alpha,\n",
        "\\end{align}\n",
        "where\n",
        "* $C_t$ is consumption,\n",
        "* $\\gamma \\ge 0$ is risk aversion,\n",
        "* $K_t$ is capital,\n",
        "* $A$ is technology,\n",
        "* $\\alpha \\in (0, 1)$ is production capital intensity.\n",
        "\n",
        "At each period, the infinitely-lived agent maximizes expected utility\n",
        "\\begin{align}\n",
        "    \\mathbb E \\left[\n",
        "        \\sum_{t=0}^\\infty \\beta^t u(C_t)\n",
        "    \\right]\n",
        "\\end{align}\n",
        "\n",
        "by choosing consumption such that for every period $t \\in \\mathbb N$,\n",
        "\n",
        "\\begin{align}\n",
        "    C_t + K_{t+1} = (1 + z_t) f(K_t) + (1 - \\delta) K_t,\n",
        "\\end{align}\n",
        "where\n",
        "* $\\beta$ is the time discount factor,\n",
        "* $\\delta$ is the capital depreciation rate,\n",
        "* $z_t$ is a random production shock with the probability mass function\n",
        "\\begin{align}\n",
        "    Pr(z_t=z) = \\begin{cases}\n",
        "        p,     & z = \\mu/p \\\\\n",
        "        1 - p, & z = 0 \\\\\n",
        "        0,     & \\text{otherwise},\n",
        "    \\end{cases}\n",
        "\\end{align}\n",
        "\n",
        "for some $p \\in [0, 1]$ and $\\mu \\in \\mathbb R$.\n",
        "\n",
        "See [Appendix III](#scrollTo=pUmNBBqP9KQS&line=1&uniqifier=1) for details of a **dynamic programming** solution.\n",
        "\n",
        "Solve the model and plot the value function, optimal consumption, and optimal savings as functions of current period capital $K_t$ for different realizations of $z_t$. The setup and parameterizations are completed for you.\n",
        "\n",
        "Adapt and improve the parameters to see how the model results change."
      ]
    },
    {
      "cell_type": "code",
      "execution_count": null,
      "metadata": {
        "id": "qW1U005vJKjv"
      },
      "outputs": [],
      "source": [
        "### Setup and parameterizations\n",
        "\n",
        "# utility function\n",
        "def u(c, gamma=1, negval=-1e5):\n",
        "\n",
        "    if gamma == 1:\n",
        "        res = np.log(c) # limit as gamma -> 1\n",
        "    else:\n",
        "        res = (c**(1-gamma) - 1) / (1-gamma)\n",
        "\n",
        "    # set large negative utility for negative or zero consumption\n",
        "    res[np.isnan(res)] = negval\n",
        "\n",
        "    return res\n",
        "    \n",
        "# production function\n",
        "def f(k, A=0.5, alpha=0.25):\n",
        "    \n",
        "    return A * (k**alpha)\n",
        "\n",
        "# time discount factor\n",
        "beta = 0.9\n",
        "\n",
        "# capital depreciation\n",
        "delta = 0.02\n",
        "\n",
        "# productivity shock and probability\n",
        "mu, p = 0.15, 0.05\n",
        "\n",
        "# capital state space\n",
        "kmin, kmax, m = 1e-3, 5, 250\n",
        "k_grid = np.linspace(kmin, kmax, m)\n",
        "\n",
        "# z (random shock) state space\n",
        "z_grid = np.array([mu/p, 0])\n",
        "\n",
        "# probability distribution of z\n",
        "pmf = np.array([p, 1 - p])\n",
        "\n",
        "# value function estimate (initialized with zeros)\n",
        "shape_V = len(k_grid), len(z_grid)\n",
        "V = np.zeros(shape_V)\n",
        "\n",
        "# optimal policy function (initialized with zeros)\n",
        "k_opt = np.zeros(shape_V)\n",
        "c_opt = np.zeros(shape_V)"
      ]
    },
    {
      "cell_type": "code",
      "execution_count": null,
      "metadata": {
        "id": "v24BFIWe-TK5"
      },
      "outputs": [],
      "source": [
        "### Estimate model\n",
        "\n",
        "# your code here\n"
      ]
    },
    {
      "cell_type": "markdown",
      "metadata": {
        "id": "Siul4ePqMgSE"
      },
      "source": [
        "## Solutions\n",
        "Unhide cells to see solutions."
      ]
    },
    {
      "cell_type": "markdown",
      "metadata": {
        "id": "mq5hfRpxYq-W"
      },
      "source": [
        "### Solution A."
      ]
    },
    {
      "cell_type": "code",
      "execution_count": null,
      "metadata": {
        "id": "Ps3bWmOI133_"
      },
      "outputs": [],
      "source": [
        "# https://fred.stlouisfed.org/series/PFOODINDEXM\n",
        "food_url = 'https://fred.stlouisfed.org/graph/fredgraph.csv?id=PFOODINDEXM'\n",
        "\n",
        "# your code here\n",
        "\n",
        "urls = {'inflation' : cpi_url,\n",
        "        'energy' : energy_url,\n",
        "        'food' : food_url\n",
        "        }\n",
        "\n",
        "keys = list(urls)\n",
        "data = []\n",
        "\n",
        "for key in keys:\n",
        "\n",
        "    url = urls[key]\n",
        "        \n",
        "    df = pd.read_csv(url)\n",
        "\n",
        "    # Change column name\n",
        "    df.columns = ['date', key]\n",
        "\n",
        "    # convert to datetime\n",
        "    df['date'] = pd.to_datetime(df['date'])\n",
        "\n",
        "    # set date as index\n",
        "    df = df.set_index('date')\n",
        "\n",
        "    # normalize price\n",
        "    if key != 'inflation':\n",
        "        df[key] = df[key] / 100 - 1\n",
        "\n",
        "    data.append(df)\n",
        "\n",
        "# combine dataframes\n",
        "df = pd.concat(data, axis=1)\n",
        "\n",
        "# drop NAs\n",
        "df = df.dropna()\n",
        "\n",
        "years = 10\n",
        "df = df.tail(12 * years)\n",
        "\n",
        "# plot data\n",
        "plt.figure(figsize=(12, 6))\n",
        "\n",
        "for key in keys:\n",
        "\n",
        "    plt.plot(df[key], lw=3)\n",
        "\n",
        "plt.grid()\n",
        "plt.legend(keys)\n",
        "plt.show()\n",
        "\n",
        "# fit data\n",
        "model = sm.ols(f'inflation ~ energy + food', data=df)\n",
        "res = model.fit()\n",
        "print(res.summary())"
      ]
    },
    {
      "cell_type": "markdown",
      "metadata": {
        "id": "4LrHUbM8QCHd"
      },
      "source": [
        "### Solution B."
      ]
    },
    {
      "cell_type": "code",
      "execution_count": null,
      "metadata": {
        "id": "Fshbv7NYJms9"
      },
      "outputs": [],
      "source": [
        "# analytical solution\n",
        "\n",
        "def ols_an(y, X):\n",
        "    '''\n",
        "    Analytical OLS estimate\n",
        "    '''\n",
        "    y = np.array(y)\n",
        "    X = np.array(X)\n",
        "    \n",
        "    return np.linalg.inv(X.T @ X) @ X.T @ y\n",
        "\n",
        "# convert data to numpy\n",
        "y = np.array(df[['inflation']])\n",
        "X = np.array(df[['energy', 'food']])\n",
        "\n",
        "# add intercept column\n",
        "ones = np.ones((X.shape[0], 1))\n",
        "X = np.concatenate((ones, X), axis=1)\n",
        "\n",
        "beta_an = ols_an(y, X)\n",
        "\n",
        "print('Analytical solution:\\n')\n",
        "print(beta_an)"
      ]
    },
    {
      "cell_type": "code",
      "execution_count": null,
      "metadata": {
        "id": "KVVdg-TmpgBq"
      },
      "outputs": [],
      "source": [
        "# gradient descent\n",
        "\n",
        "def loss(y, X, beta_hat):\n",
        "    '''\n",
        "    OLS loss function\n",
        "    '''\n",
        "    l = (y - X@beta_hat).T @ (y - X@beta_hat)\n",
        "    return l[0, 0]\n",
        "\n",
        "\n",
        "def ols_gd(y, X,\n",
        "          learning_rate=1e-3,\n",
        "          convergence_threshold=1e-15,\n",
        "          iter_limit=100_000\n",
        "          ):\n",
        "    '''\n",
        "    Gradient descent OLS estimate\n",
        "    '''\n",
        "    y = np.array(y)\n",
        "    X = np.array(X)\n",
        "\n",
        "    beta_hat = np.random.normal(0, y.std(), size=(X.shape[1], 1))\n",
        "\n",
        "    L = loss(y, X, beta_hat)\n",
        "\n",
        "    for t in range(iter_limit):\n",
        "\n",
        "        L_prev = L\n",
        "\n",
        "        grad =  2 * (- X.T @ y + X.T @ X @ beta_hat)\n",
        "\n",
        "        beta_hat = beta_hat - learning_rate * grad\n",
        "\n",
        "        L = loss(y, X, beta_hat)\n",
        "\n",
        "        if abs(L - L_prev) < convergence_threshold:\n",
        "            \n",
        "            print(f'Convergence reached in {t+1:,} iterations.')\n",
        "        \n",
        "            return beta_hat\n",
        "    \n",
        "    print(f'Iteration limit {iter_limit:,} reached.')\n",
        "\n",
        "    return beta_hat\n",
        "\n",
        "beta_gd = ols_gd(y, X)\n",
        "\n",
        "print('Numerical solution:\\n')\n",
        "print(beta_gd)"
      ]
    },
    {
      "cell_type": "markdown",
      "metadata": {
        "id": "EPfPqp-NAZPy"
      },
      "source": [
        "### Solution C."
      ]
    },
    {
      "cell_type": "code",
      "execution_count": null,
      "metadata": {
        "id": "5cAZgvEn0tPX"
      },
      "outputs": [],
      "source": [
        "# your code here\n",
        "\n",
        "# initial state values\n",
        "state = np.array([0.99, 0.01, 0, 0])\n",
        "\n",
        "# transition parameters\n",
        "beta, gamma, mu = 0.15, 0.05, 0.01\n",
        "\n",
        "iter_limit = 365\n",
        "\n",
        "# evolution path of states\n",
        "states_path = [state]\n",
        "\n",
        "for t in range(iter_limit):\n",
        "\n",
        "    S, I, R, D = state\n",
        "\n",
        "    state_new = np.array([\n",
        "                (1 - beta * I * S) * S,\n",
        "                (1 - gamma - mu) * I + beta * I * S * S,\n",
        "                R + gamma * I,\n",
        "                D + mu * I\n",
        "            ])\n",
        "\n",
        "    states_path.append(state_new)\n",
        "\n",
        "    state = state_new.copy()\n",
        "\n",
        "S, I, R, D = state\n",
        "\n",
        "fig = plt.figure(figsize=(8, 5))\n",
        "\n",
        "plt.plot(states_path, lw=3)\n",
        "\n",
        "plt.legend(['$%s_{%s}' % (c, t) + f'= {eval(c):.5f}$' for c in 'SIRD'],\n",
        "          fontsize=12\n",
        "          )\n",
        "\n",
        "plt.grid()\n",
        "plt.show()"
      ]
    },
    {
      "cell_type": "markdown",
      "metadata": {
        "id": "Y9LGOMOxDe9A"
      },
      "source": [
        "### Solution D."
      ]
    },
    {
      "cell_type": "code",
      "execution_count": null,
      "metadata": {
        "id": "jhhXtVISJdea"
      },
      "outputs": [],
      "source": [
        "### Setup and parameterizations\n",
        "\n",
        "# utility function\n",
        "def u(c, gamma=1, negval=-1e5):\n",
        "\n",
        "    if gamma == 1:\n",
        "        res = np.log(c) # limit as gamma -> 1\n",
        "    else:\n",
        "        res = (c**(1-gamma) - 1) / (1-gamma)\n",
        "\n",
        "    # set large negative utility for negative or zero consumption\n",
        "    res[np.isnan(res)] = negval\n",
        "\n",
        "    return res\n",
        "    \n",
        "# production function\n",
        "def f(k, A=0.5, alpha=0.25):\n",
        "    \n",
        "    return A * (k**alpha)\n",
        "\n",
        "# time discount factor\n",
        "beta = 0.9\n",
        "\n",
        "# capital depreciation\n",
        "delta = 0.02\n",
        "\n",
        "# productivity shock and probability\n",
        "mu, p = 0.15, 0.05\n",
        "\n",
        "# capital state space\n",
        "kmin, kmax, m = 1e-3, 5, 250\n",
        "k_grid = np.linspace(kmin, kmax, m)\n",
        "\n",
        "# z (random shock) state space\n",
        "z_grid = np.array([mu/p, 0])\n",
        "\n",
        "# probability distribution of z\n",
        "pmf = np.array([p, 1 - p])\n",
        "\n",
        "# value function estimate (initialized with zeros)\n",
        "shape_V = len(k_grid), len(z_grid)\n",
        "V = np.zeros(shape_V)\n",
        "\n",
        "# optimal policy function (initialized with zeros)\n",
        "k_opt = np.zeros(shape_V)\n",
        "c_opt = np.zeros(shape_V)"
      ]
    },
    {
      "cell_type": "code",
      "execution_count": null,
      "metadata": {
        "id": "mu2Q2rKqDdvA"
      },
      "outputs": [],
      "source": [
        "### Estimate model\n",
        "\n",
        "# your code here\n",
        "\n",
        "# iteration limit \n",
        "iter_limit = 10_000\n",
        "\n",
        "# convergence threshold\n",
        "eta = 1e-10\n",
        "\n",
        "for tau in range(iter_limit):\n",
        "\n",
        "    # previous value function\n",
        "    V_prev = V.copy()\n",
        "\n",
        "    for i, k in enumerate(k_grid):\n",
        "        \n",
        "        for j, z in enumerate(z_grid):\n",
        "\n",
        "            # consumption choice\n",
        "            c_grid = (1 + z) * f(k) + (1-delta) * k - k_grid\n",
        "\n",
        "            # value-to-go vector\n",
        "            vals = u(c_grid) + beta * V_prev @ pmf\n",
        "\n",
        "            # optimized state\n",
        "            s_hat = np.argmax(vals)\n",
        "\n",
        "            # update value function\n",
        "            V[i, j] = vals[s_hat]\n",
        "\n",
        "            # update optimal policy functions\n",
        "            c_opt[i, j] = c_grid[s_hat]\n",
        "            k_opt[i, j] = k_grid[s_hat]\n",
        "\n",
        "    # check convergence\n",
        "    conv_error = np.abs(V - V_prev).sum()\n",
        "\n",
        "    if conv_error <= eta:\n",
        "        break\n",
        "\n",
        "print(f'\\niterations: {tau:,} | convergence error {conv_error:.3e}')\n",
        "print('-' * 50, '\\n')\n",
        "\n",
        "\n",
        "### Plot solutions\n",
        "\n",
        "sols = {'Value function $V(K_t)$' : V,\n",
        "        'Optimal consumption $C_t$' : c_opt,\n",
        "        'Optimal savings $K_{t+1}$' : k_opt}\n",
        "\n",
        "fig, axes = plt.subplots(1, len(sols), figsize=(15, 5))\n",
        "\n",
        "for key, ax in zip(sols, axes):\n",
        "\n",
        "    ax.plot(k_grid, sols[key])\n",
        "    \n",
        "    ylab = key.split()[-1]\n",
        "    title = ' '.join(key.split()[:-1])\n",
        "\n",
        "    fontsize = 18\n",
        "    ax.set_title(title, fontsize=fontsize)\n",
        "    ax.set_xlabel('$K_t$', fontsize=fontsize*0.8)\n",
        "    ax.set_ylabel(ylab, fontsize=fontsize*0.8)\n",
        "\n",
        "    ax.legend([f'$z_t = {z:,.3f}$' for z in z_grid])\n",
        "    ax.grid()\n",
        "\n",
        "plt.tight_layout(pad=2)\n",
        "plt.show()"
      ]
    },
    {
      "cell_type": "markdown",
      "metadata": {
        "id": "39KHn9ENEgRu"
      },
      "source": [
        "# Appendices"
      ]
    },
    {
      "cell_type": "markdown",
      "metadata": {
        "id": "3pYQVn3QfX5g"
      },
      "source": [
        "### Appendix I: Print formats\n",
        "<a id='apdx-A'></a>\n",
        "\n",
        "ANSI escape codes for text fonts."
      ]
    },
    {
      "cell_type": "code",
      "execution_count": null,
      "metadata": {
        "id": "5EZvYx5oZSNJ"
      },
      "outputs": [],
      "source": [
        "for i in range(108):\n",
        "\n",
        "    print(f'\\033[{i}m\\\\033[{i}m\\033[0m ', end='\\t')\n",
        "\n",
        "    if (i+1) % 6==0:\n",
        "        print()"
      ]
    },
    {
      "cell_type": "markdown",
      "metadata": {
        "id": "0XpeuzwtH6wv"
      },
      "source": [
        "---\n",
        "## Appendix II: OLS estimation\n",
        "\n",
        "To solve\n",
        "\\begin{align}\n",
        "    \\hat \\beta\n",
        "    = \\text{arg}\\min_{\\beta} \\mathcal L (\\beta; y, X)\n",
        "    &= ||y - X \\beta||^2\n",
        "    = (y - X \\beta)^T (y - X \\beta),\n",
        "\\end{align}\n",
        "\n",
        "where\n",
        "\n",
        "\\begin{align}\n",
        "    y\n",
        "    &= X \\beta + \\varepsilon\n",
        "    \\equiv\n",
        "    \\begin{bmatrix}\n",
        "        y_1 \\\\ y_2 \\\\ \\vdots \\\\ y_m\n",
        "    \\end{bmatrix}\n",
        "    =\n",
        "    \\begin{bmatrix}\n",
        "        1 & X_{12} & X_{13} & ... & X_{1n} \\\\\n",
        "        1 & X_{22} & X_{23} & ... & X_{1n} \\\\\n",
        "        \\vdots & \\vdots & \\vdots & \\ddots & \\vdots  \\\\\n",
        "        1 & X_{m2} & X_{n3} & ... & X_{mn} \\\\\n",
        "    \\end{bmatrix}\n",
        "    \\begin{bmatrix}\n",
        "        \\beta_1 \\\\ \\beta_2 \\\\ \\vdots \\\\ \\beta_m\n",
        "    \\end{bmatrix}\n",
        "    +\n",
        "    \\begin{bmatrix}\n",
        "        \\varepsilon_1 \\\\ \\varepsilon_2 \\\\ \\vdots \\\\ \\varepsilon_m\n",
        "    \\end{bmatrix}\n",
        "\\end{align}\n",
        "\n",
        "you can use either the **analytical solution** or numerical approximation with **gradient descent**.\n",
        "\n",
        "Expanding the loss function, we have that\n",
        "\\begin{align}\n",
        "    \\mathcal L (\\beta; y, X)\n",
        "    &= (y - X \\beta)^T (y - X \\beta)\n",
        "    \\\\\n",
        "    &= (y^T - \\beta^T X^T) (y - X \\beta)\n",
        "    \\\\\n",
        "    &= (y^T y - \\beta^T X^T y) - (y^T X \\beta- \\beta^T X^T X \\beta)\n",
        "    \\\\\n",
        "    &= y^T y - 2 \\beta^T X^T y + \\beta^T X^T X \\beta\n",
        "    \\\\\n",
        "    &= \\sum_{i=1}^{m} y_i^2\n",
        "     - 2\\sum_{j=1}^n \\beta_j \\sum_{i=1}^m X_{ij} y_i\n",
        "     + \\sum_{k=1}^n \\beta_k \\sum_{i=1}^m X_{ik} \\sum_{j=1}^n  X_{ij} \\beta_j.\n",
        "\\end{align}\n",
        "\n",
        "The gradient vector of the loss function is then\n",
        "\\begin{align}\n",
        "    \\nabla \\mathcal L\n",
        "    =\n",
        "    \\begin{bmatrix}\n",
        "        \\frac{\\partial \\mathcal L}{\\partial \\beta_1} \\\\\n",
        "        \\vdots \\\\\n",
        "        \\frac{\\partial \\mathcal L}{\\partial \\beta_n}\n",
        "    \\end{bmatrix}_{n \\times 1}\n",
        "   &=\n",
        "   -2\n",
        "   \\begin{bmatrix}\n",
        "        \\sum_{i=1}^m X_{i1} y_i \\\\\n",
        "        \\vdots \\\\\n",
        "        \\sum_{i=1}^m X_{in} y_i \\\\\n",
        "   \\end{bmatrix}_{n \\times 1}\n",
        "   +\n",
        "   \\begin{bmatrix}\n",
        "        \\sum_{i=1}^m \\sum_{j=1}^n  X_{i1} X_{ij} \\beta_j\n",
        "        + \\sum_{k=1}^n \\sum_{i=1}^m \\beta_k X_{ik} X_{i1}\n",
        "        \\\\\n",
        "        \\vdots\n",
        "        \\\\\n",
        "        \\sum_{i=1}^m \\sum_{j=1}^n  X_{in} X_{ij} \\beta_j\n",
        "        + \\sum_{k=1}^n \\sum_{i=1}^m \\beta_k X_{ik} X_{in}\n",
        "   \\end{bmatrix}_{n \\times 1}\n",
        "   \\\\\n",
        "   &=\n",
        "   -2\n",
        "   \\begin{bmatrix}\n",
        "        \\sum_{i=1}^m X_{i1} y_i \\\\\n",
        "        \\vdots \\\\\n",
        "        \\sum_{i=1}^m X_{in} y_i \\\\\n",
        "   \\end{bmatrix}_{n \\times 1}\n",
        "   +\n",
        "   2\n",
        "   \\begin{bmatrix}\n",
        "   \\sum_{i=1}^m \\sum_{j=1}^n  X_{i1} X_{ij} \\beta_j\n",
        "   \\\\\n",
        "   \\vdots\n",
        "   \\\\\n",
        "   \\sum_{i=1}^m \\sum_{j=1}^n  X_{im} X_{ij} \\beta_j\n",
        "   \\end{bmatrix}_{n \\times 1}\n",
        "   \\\\\n",
        "   \\\\\n",
        "   &= -2 X^T y + 2 X^T X \\beta.\n",
        "\\end{align}"
      ]
    },
    {
      "cell_type": "markdown",
      "metadata": {
        "id": "PfKnKi63M8kN"
      },
      "source": [
        "---\n",
        "### Analytical solution\n",
        "\n",
        "To satisfy the FOC for optimization, the gradient is set equal to the zero vector. Then we have that\n",
        "\\begin{align}\n",
        "  \\nabla \\mathcal L\n",
        "   = -2 X^T y + 2 X^T X \\beta\n",
        "   &= \\mathbf 0_{n \\times 1},\n",
        "   \\\\\n",
        "   X^T X \\beta\n",
        "   &= X^T y,\n",
        "   \\\\\n",
        "   \\hat \\beta\n",
        "   &= (X^T X )^{-1} X^T y,\n",
        "\\end{align}\n",
        "which is the **analytical solution** for $\\hat \\beta$."
      ]
    },
    {
      "cell_type": "markdown",
      "metadata": {
        "id": "qIXNq1BhRbeI"
      },
      "source": [
        "\n",
        "---\n",
        "### Gradient descent\n",
        "\n",
        "For large datasets, calculating the inverse $(X^T X)^{-1}$ may be computationally expensive. Then we can use numerical approximation to solve the estimate with a technique called **gradient descent**.\n",
        "\n",
        "Let $\\hat \\beta^{(t)}$ be the $t$-th iteration estimate of $\\beta$, initialized with $\\hat \\beta^{(0)} = \\mathbf 0_{n \\times 1}$ or a random vector. The iterated estimates \"step\" in the opposite direction of the gradient vector scaled by a small learning rate $\\delta > 0$, where\n",
        "\\begin{align}\n",
        "    \\hat \\beta^{(t+1)}\n",
        "    &= \\hat \\beta^{(t)} - \\delta \\nabla \\mathcal L(\\beta^{(t)})\n",
        "    \\\\\n",
        "    &= \\hat \\beta^{(t)} - \\delta (-2 X^T y + 2 X^T X \\hat \\beta^{(t)}).\n",
        "\\end{align}\n",
        "\n",
        "The iteration ends after convergence, $\\hat \\beta^{(t+1)} \\simeq \\hat \\beta^{(t)}$, with some stopping rule such as if the absolute change in the loss function is less than a small threshold $\\eta > 0$,\n",
        "\\begin{align}\n",
        "    \\left|\\mathcal L\\left(\\hat \\beta^{(t+1)}\\right) - \\mathcal L\\left(\\hat \\beta^{(t)}\\right) \\right| < \\eta.\n",
        "\\end{align}\n",
        "\n",
        "It's also good to set an iteration limit $T > 0$, where the estimation stops after $t \\ge T$ to prevent the code from running too long for small convergence gains."
      ]
    },
    {
      "cell_type": "markdown",
      "metadata": {
        "id": "pUmNBBqP9KQS"
      },
      "source": [
        "---\n",
        "## Appendix III: Dynamic programming\n",
        "\n",
        "The problem at each period is to maximize\n",
        "\\begin{align}\n",
        "    \\mathbb E \\left[\n",
        "        \\sum_{t=0}^\\infty \\beta^t u(C_t)\n",
        "    \\right]\n",
        "\\end{align}\n",
        "\n",
        "such that for all periods $t \\in \\mathbb N$,\n",
        "\n",
        "\\begin{align}\n",
        "    C_t + K_{t+1} = (1 + z_t) f(K_t) + (1 - \\delta) K_t.\n",
        "\\end{align}\n",
        "\n",
        "We can approximate the solution with a discrete [dynamic programming](https://en.wikipedia.org/wiki/Dynamic_programming) model.\n",
        "\n",
        "Let the **capital state space** $k \\in \\mathbb R^m$ be a discrete linear space of possible capital levels, and let $z \\in \\mathbb R^n$ with $n=2$ be the state space of the **productivity shock**.\n",
        "\n",
        "Let the **value function** $V \\in \\mathbb R^{m \\times 2}$ be a matrix that satisfies the discrete [Bellman equation](https://en.wikipedia.org/wiki/Bellman_equation#The_Bellman_equation), where for all $i = 1, 2, .., m$ and $j = 1, 2$,\n",
        "\n",
        "\\begin{align}\n",
        "    V_{ij}\n",
        "    &= \\max_{s \\in \\{1, ..., m\\}} \\left\\{\n",
        "        u(c_s) + \\beta \\mathbb E_{z}[V_{sj}]\n",
        "    \\right\\}\n",
        "    %\\\\\n",
        "    %&= \\max_{s \\in \\{1, ..., m\\}} \\left\\{\n",
        "    %    u(c_s) + \\beta (p V_{s1} + (1-p) V_{s2})\n",
        "    %\\right\\},\n",
        "    \\\\\n",
        "    &= u(c_{\\hat s}) + \\beta (p V_{\\hat s 1} + (1-p) V_{\\hat s 2}),\n",
        "\\end{align}\n",
        "\n",
        "where $\\hat s \\in \\{1, ..., m\\}$ is the maximizing state space index and the vector $c \\in \\mathbb R^m$ represents the **available consumption** levels corresponding to the next period capital levels,\n",
        "\n",
        "\\begin{align}\n",
        "    c &= [(1+z_j) f(k_i) + (1-\\delta) k_i] \\mathbf 1_{m \\times 1} - k.\n",
        "\\end{align}\n",
        "\n",
        "When the agent faces capital $k_i$ and realization $z_j$ at any time period, $V_{ij}$ is the maximized Bellman equation value, $c_{\\hat s}$ is the optimal consumption, and $k_{\\hat s}$ is the optimal savings (next period capital). Then $V_{\\hat s j}, \\; j = 1, 2,$ are the next period value functions (depending on the realization of $z_j$).\n",
        "\n",
        "Let $V^{(\\tau)}$ be the $\\tau$-th iteration estimate of the value function with an initial $V^{(0)}(K_t, z_t) = \\mathbf 0_{n\\times 2}.$ We improve the estimate by iterating the value function following the path\n",
        "\\begin{align}\n",
        "    V_{ij}^{(\\tau+1)}\n",
        "    &= u(c_s) + \\beta \\left(p V_{s1}^{(\\tau)} + (1-p) V_{s2}^{(\\tau)} \\right)\n",
        "\\end{align}\n",
        "\n",
        "for each $i = 1, ..., m$ and $j = 1, 2$ until convergence $V^{(\\tau+1)} \\simeq V^{(\\tau)}$. The estimation ends after some convergence threshold is reached, such as\n",
        "\\begin{align}\n",
        "    \\sum\\limits_{k=1}^n \\sum\\limits_{j=1}^2 \\left| V_{kj}^{(\\tau+1)} - V_{kj}^{(\\tau)} \\right| \\le \\eta,\n",
        "\\end{align}\n",
        "for some $\\eta > 0$, or after some iteration limit."
      ]
    },
    {
      "cell_type": "code",
      "source": [],
      "metadata": {
        "id": "DE4vDpQlCizM"
      },
      "execution_count": null,
      "outputs": []
    }
  ],
  "metadata": {
    "colab": {
      "collapsed_sections": [
        "0NfzCyb1LiOG",
        "03Vou6LoL1GQ",
        "tCi5JcTNMEgH",
        "TCplsanjMrTa",
        "Siul4ePqMgSE"
      ],
      "toc_visible": true,
      "provenance": [],
      "include_colab_link": true
    },
    "kernelspec": {
      "display_name": "Python 3",
      "name": "python3"
    },
    "language_info": {
      "name": "python"
    }
  },
  "nbformat": 4,
  "nbformat_minor": 0
}